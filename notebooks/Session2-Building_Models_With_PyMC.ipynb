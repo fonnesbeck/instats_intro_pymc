{
 "cells": [
  {
   "cell_type": "markdown",
   "metadata": {},
   "source": [
    "![PyMC Labs](images/4-pymc-labs-transp-black.png)\n",
    "\n",
    "# Session 2: PyMC and PyTensor\n",
    "\n",
    "In this session, we'll explore the fundamental components that power PyMC: PyTensor and PyMC's variable classes. We'll learn how PyTensor defines and optimizes computational graphs, and how PyMC uses these capabilities to build probabilistic models."
   ]
  },
  {
   "cell_type": "markdown",
   "metadata": {},
   "source": [
    "## PyTensor Basics\n",
    "\n",
    "PyTensor is the computational backend for PyMC. It defines symbolic variables and operations on them, which are compiled into efficient functions that can run on CPUs or GPUs. Let's begin by exploring the basic elements of PyTensor.\n",
    "\n",
    "In PyTensor, you define a computational graph explicitly. You start with input variables that are essentially placeholders and from these, you build more intermediate variables by applying operators. These intermediate variables can then be treated as outputs or as inputs for further computation.\n",
    "\n",
    "While PyTensor is designed to feel similar to NumPy to ease the learning curve, it's important to remember they are distinct. PyTensor operations build a graph of computations rather than executing them immediately like NumPy."
   ]
  },
  {
   "cell_type": "markdown",
   "metadata": {},
   "source": [
    "### Tensors and Basic Operations\n",
    "\n",
    "To begin, let's define some PyTensor tensors and show how to perform some basic operations.\n",
    "\n",
    "A tensor can be a scalar or a vector with any number of dimensions. \n",
    "\n",
    "Concretely:"
   ]
  },
  {
   "cell_type": "code",
   "execution_count": 8,
   "metadata": {},
   "outputs": [
    {
     "name": "stdout",
     "output_type": "stream",
     "text": [
      "\n",
      "x type: Scalar(float64, shape=())\n",
      "x shape = ()\n",
      "---\n",
      "y type: Vector(float64, shape=(2,))\n",
      "y shape = (2,)\n",
      "\n"
     ]
    }
   ],
   "source": [
    "import pytensor\n",
    "import pytensor.tensor as pt\n",
    "import numpy as np\n",
    "\n",
    "x = pt.tensor(shape=(), dtype=\"float64\")\n",
    "y = pt.tensor(shape=(2,), dtype=\"float64\")\n",
    "\n",
    "print(\n",
    "    f\"\"\"\n",
    "x type: {x.type}\n",
    "x shape = {x.type.shape}\n",
    "---\n",
    "y type: {y.type}\n",
    "y shape = {y.type.shape}\n",
    "\"\"\"\n",
    ")"
   ]
  },
  {
   "cell_type": "markdown",
   "metadata": {},
   "source": [
    "Now that we have defined the `x` and `y` tensors, we can create a new one by adding them together."
   ]
  },
  {
   "cell_type": "code",
   "execution_count": 9,
   "metadata": {},
   "outputs": [
    {
     "data": {
      "text/plain": [
       "x + y"
      ]
     },
     "execution_count": 9,
     "metadata": {},
     "output_type": "execute_result"
    }
   ],
   "source": [
    "z = x + y\n",
    "z.name = \"x + y\"\n",
    "z"
   ]
  },
  {
   "cell_type": "markdown",
   "metadata": {},
   "source": [
    "To make the computation a bit more complex let's take the logarithm of the resulting tensor."
   ]
  },
  {
   "cell_type": "code",
   "execution_count": 10,
   "metadata": {},
   "outputs": [
    {
     "data": {
      "text/plain": [
       "(Log.0, pytensor.tensor.variable.TensorVariable)"
      ]
     },
     "execution_count": 10,
     "metadata": {},
     "output_type": "execute_result"
    }
   ],
   "source": [
    "w = pt.log(z)\n",
    "w, type(w)"
   ]
  },
  {
   "cell_type": "markdown",
   "metadata": {},
   "source": [
    "We did not give `w` a name, so it prints something more descriptive: its the index-0 output of calling the `log` function. Its type is `TensorVariable`, which is the base class for all PyTensor variables.\n",
    "\n",
    "So PyTensor works something like NumPy, but it builds a graph of operations rather than executing, more like a symbolic computation library.\n",
    "\n",
    "We can use the `pytensor.dprint` function to print the computational graph of any given tensor."
   ]
  },
  {
   "cell_type": "code",
   "execution_count": 11,
   "metadata": {},
   "outputs": [
    {
     "name": "stdout",
     "output_type": "stream",
     "text": [
      "Log [id A]\n",
      " └─ Add [id B] 'x + y'\n",
      "    ├─ ExpandDims{axis=0} [id C]\n",
      "    │  └─ <Scalar(float64, shape=())> [id D]\n",
      "    └─ <Vector(float64, shape=(2,))> [id E]\n"
     ]
    },
    {
     "name": "stdout",
     "output_type": "stream",
     "text": [
      "Log [id A]\n",
      " └─ Add [id B] 'x + y'\n",
      "    ├─ ExpandDims{axis=0} [id C]\n",
      "    │  └─ <Scalar(float64, shape=())> [id D]\n",
      "    └─ <Vector(float64, shape=(2,))> [id E]\n"
     ]
    },
    {
     "data": {
      "text/plain": [
       "<ipykernel.iostream.OutStream at 0x7f3221b4c2e0>"
      ]
     },
     "execution_count": 11,
     "metadata": {},
     "output_type": "execute_result"
    }
   ],
   "source": [
    "pytensor.dprint(w)"
   ]
  },
  {
   "cell_type": "markdown",
   "metadata": {},
   "source": [
    "This output shows the structure of the computation that PyTensor has built for the variable `w`. Think of it as a recipe (in reverse):\n",
    "\n",
    "*   **`Log [id A] 'log(x + y)'`**: This is the final result, `w`. It's calculated by taking the logarithm (`Log`) of an intermediate value named `'log(x + y)'`. PyTensor assigns it an internal identifier `A`.\n",
    "*   **`Add [id B] 'x + y'`**: This is the input to the `Log` operation. It's an intermediate value named `'x + y'` (which we called `z` in the code), calculated by an addition (`Add`). Its internal ID is `B`.\n",
    "*   **`ExpandDims{axis=0} [id C]`**: This is the first input to the `Add` operation. `ExpandDims` is an operation that changes the shape of a tensor. Here, it's likely making the scalar `x` compatible for addition with the vector `y`. Its ID is `C`.\n",
    "    *   **`<Scalar(float64, shape=())> [id D]`**: This is the input to `ExpandDims`. It's our original scalar tensor `x` (ID `D`), which holds a single 64-bit floating-point number.\n",
    "*   **`<Vector(float64, shape=(3,))> [id E]`**: This is the second input to the `Add` operation. It's our original vector tensor `y` (ID `E`), which holds three 64-bit floating-point numbers."
   ]
  },
  {
   "cell_type": "markdown",
   "metadata": {},
   "source": [
    "### Functions\n",
    "\n",
    "Note that this graph does not do any computation (yet!). It is simply defining the sequence of steps to be done. We can use `pytensor.function` to define a callable object so that we can push values through the graph.\n",
    "\n",
    "PyTensor functions are compiled from symbolic expressions into efficient callable functions. The `pytensor.function` constructor takes several key arguments that define how the function will behave:\n",
    "\n",
    "- The `inputs` argument specifies which PyTensor variables will be provided when calling the function. These become the function's parameters.\n",
    "\n",
    "- The `outputs` argument defines which symbolic expressions should be evaluated and returned when the function is called."
   ]
  },
  {
   "cell_type": "code",
   "execution_count": 12,
   "metadata": {},
   "outputs": [],
   "source": [
    "f = pytensor.function(inputs=[x, y], outputs=w)"
   ]
  },
  {
   "cell_type": "markdown",
   "metadata": {},
   "source": [
    "Now that the graph is compiled, we can push some concrete values:"
   ]
  },
  {
   "cell_type": "code",
   "execution_count": 13,
   "metadata": {},
   "outputs": [
    {
     "data": {
      "text/plain": [
       "array([0., 1.])"
      ]
     },
     "execution_count": 13,
     "metadata": {},
     "output_type": "execute_result"
    }
   ],
   "source": [
    "f(0, [1, np.e])"
   ]
  },
  {
   "cell_type": "markdown",
   "metadata": {},
   "source": [
    "> TIP:\n",
    "> Sometimes we just want to debug, we can use `pytensor.graph.basic.Variable.eval` for that:"
   ]
  },
  {
   "cell_type": "code",
   "execution_count": 14,
   "metadata": {},
   "outputs": [
    {
     "data": {
      "text/plain": [
       "array([0., 1.])"
      ]
     },
     "execution_count": 14,
     "metadata": {},
     "output_type": "execute_result"
    }
   ],
   "source": [
    "w.eval({x: 0, y: [1, np.e]})"
   ]
  },
  {
   "cell_type": "markdown",
   "metadata": {},
   "source": [
    "You can set intermediate values as well"
   ]
  },
  {
   "cell_type": "code",
   "execution_count": null,
   "metadata": {},
   "outputs": [
    {
     "data": {
      "text/plain": [
       "array([0., 1.])"
      ]
     },
     "execution_count": 8,
     "metadata": {},
     "output_type": "execute_result"
    }
   ],
   "source": [
    "w.eval({z: [1, np.e]})"
   ]
  },
  {
   "cell_type": "markdown",
   "metadata": {},
   "source": [
    "### Graph Optimization\n",
    "\n",
    "One of the most important features of `pytensor` is that it can automatically **optimize** the mathematical operations inside a graph. Let's consider a simple example:"
   ]
  },
  {
   "cell_type": "code",
   "execution_count": null,
   "metadata": {},
   "outputs": [
    {
     "name": "stdout",
     "output_type": "stream",
     "text": [
      "True_div [id A] 'a / b'\n",
      " ├─ a [id B]\n",
      " └─ b [id C]\n"
     ]
    },
    {
     "data": {
      "text/plain": [
       "<ipykernel.iostream.OutStream at 0x7fc802803f70>"
      ]
     },
     "execution_count": 9,
     "metadata": {},
     "output_type": "execute_result"
    }
   ],
   "source": [
    "a = pt.tensor(shape=(), name=\"a\")\n",
    "b = pt.tensor(shape=(), name=\"b\")\n",
    "\n",
    "c = a / b\n",
    "c.name = \"a / b\"\n",
    "\n",
    "pytensor.dprint(c)"
   ]
  },
  {
   "cell_type": "markdown",
   "metadata": {},
   "source": [
    "Now let's multiply `b` times `c`. This should result in simply `a`."
   ]
  },
  {
   "cell_type": "code",
   "execution_count": 10,
   "metadata": {},
   "outputs": [
    {
     "name": "stdout",
     "output_type": "stream",
     "text": [
      "Mul [id A] 'b * c'\n",
      " ├─ b [id B]\n",
      " └─ True_div [id C] 'a / b'\n",
      "    ├─ a [id D]\n",
      "    └─ b [id B]\n"
     ]
    },
    {
     "data": {
      "text/plain": [
       "<ipykernel.iostream.OutStream at 0x7fc802803f70>"
      ]
     },
     "execution_count": 10,
     "metadata": {},
     "output_type": "execute_result"
    }
   ],
   "source": [
    "d = b * c\n",
    "d.name = \"b * c\"\n",
    "\n",
    "pytensor.dprint(d)"
   ]
  },
  {
   "cell_type": "markdown",
   "metadata": {},
   "source": [
    "The graph shows the full computation, but once we compile it the operation becomes the identity on `a` as expected."
   ]
  },
  {
   "cell_type": "code",
   "execution_count": 11,
   "metadata": {},
   "outputs": [
    {
     "name": "stdout",
     "output_type": "stream",
     "text": [
      "DeepCopyOp [id A] 0\n",
      " └─ a [id B]\n"
     ]
    },
    {
     "data": {
      "text/plain": [
       "<ipykernel.iostream.OutStream at 0x7fc802803f70>"
      ]
     },
     "execution_count": 11,
     "metadata": {},
     "output_type": "execute_result"
    }
   ],
   "source": [
    "g = pytensor.function(inputs=[a, b], outputs=d)\n",
    "\n",
    "pytensor.dprint(g)"
   ]
  },
  {
   "cell_type": "markdown",
   "metadata": {},
   "source": [
    "### What is in a PyTensor Graph?\n",
    "\n",
    "The following diagram shows the basic structure of an `pytensor` graph.\n",
    "\n",
    "![pytensor graph](images/apply.png)"
   ]
  },
  {
   "cell_type": "markdown",
   "metadata": {},
   "source": [
    "We can make these concepts more tangible by explicitly indicating them in our earlier example. Let's compute the graph components for the tensor `z`."
   ]
  },
  {
   "cell_type": "code",
   "execution_count": 12,
   "metadata": {},
   "outputs": [
    {
     "name": "stdout",
     "output_type": "stream",
     "text": [
      "\n",
      "z type: Vector(float64, shape=(?,))\n",
      "z name = x + y\n",
      "z owner = Add(ExpandDims{axis=0}.0, y)\n",
      "z owner inputs = [ExpandDims{axis=0}.0, y]\n",
      "z owner op = Add\n",
      "z owner output = [x + y]\n",
      "\n"
     ]
    }
   ],
   "source": [
    "print(\n",
    "    f\"\"\"\n",
    "z type: {z.type}\n",
    "z name = {z.name}\n",
    "z owner = {z.owner}\n",
    "z owner inputs = {z.owner.inputs}\n",
    "z owner op = {z.owner.op}\n",
    "z owner output = {z.owner.outputs}\n",
    "\"\"\"\n",
    ")"
   ]
  },
  {
   "cell_type": "markdown",
   "metadata": {},
   "source": [
    "### Graph Manipulation\n",
    "\n",
    "Another interesting feature of PyTensor is the ability to manipulate the computational graph, something that is not possible with TensorFlow or PyTorch. Here we'll see how to modify an existing graph."
   ]
  },
  {
   "cell_type": "code",
   "execution_count": 13,
   "metadata": {},
   "outputs": [
    {
     "data": {
      "text/plain": [
       "[x, y]"
      ]
     },
     "execution_count": 13,
     "metadata": {},
     "output_type": "execute_result"
    }
   ],
   "source": [
    "# get input tensors\n",
    "list(pytensor.graph.graph_inputs(graphs=[w]))"
   ]
  },
  {
   "cell_type": "markdown",
   "metadata": {},
   "source": [
    "As a simple example, let's add an `pytensor.tensor.exp` before the `pytensor.tensor.log` (to get the identity function)."
   ]
  },
  {
   "cell_type": "code",
   "execution_count": 14,
   "metadata": {},
   "outputs": [],
   "source": [
    "parent_of_w = w.owner.inputs[0]  # get z tensor\n",
    "new_parent_of_w = pt.exp(parent_of_w)  # modify the parent of w\n",
    "new_parent_of_w.name = \"exp(x + y)\""
   ]
  },
  {
   "cell_type": "markdown",
   "metadata": {},
   "source": [
    "Note that the graph of `w` has actually not changed:"
   ]
  },
  {
   "cell_type": "code",
   "execution_count": 15,
   "metadata": {},
   "outputs": [
    {
     "name": "stdout",
     "output_type": "stream",
     "text": [
      "Log [id A] 'log(x + y)'\n",
      " └─ Add [id B] 'x + y'\n",
      "    ├─ ExpandDims{axis=0} [id C]\n",
      "    │  └─ x [id D]\n",
      "    └─ y [id E]\n"
     ]
    },
    {
     "data": {
      "text/plain": [
       "<ipykernel.iostream.OutStream at 0x7fc802803f70>"
      ]
     },
     "execution_count": 15,
     "metadata": {},
     "output_type": "execute_result"
    }
   ],
   "source": [
    "pytensor.dprint(w)"
   ]
  },
  {
   "cell_type": "markdown",
   "metadata": {},
   "source": [
    "To modify the graph we need to use the `pytensor.clone_replace` function, which *returns a copy of the initial subgraph with the corresponding substitutions.*"
   ]
  },
  {
   "cell_type": "code",
   "execution_count": 16,
   "metadata": {},
   "outputs": [
    {
     "name": "stdout",
     "output_type": "stream",
     "text": [
      "Log [id A] 'log(exp(x + y))'\n",
      " └─ Exp [id B] 'exp(x + y)'\n",
      "    └─ Add [id C] 'x + y'\n",
      "       ├─ ExpandDims{axis=0} [id D]\n",
      "       │  └─ x [id E]\n",
      "       └─ y [id F]\n"
     ]
    },
    {
     "data": {
      "text/plain": [
       "<ipykernel.iostream.OutStream at 0x7fc802803f70>"
      ]
     },
     "execution_count": 16,
     "metadata": {},
     "output_type": "execute_result"
    }
   ],
   "source": [
    "new_w = pytensor.clone_replace(output=[w], replace={parent_of_w: new_parent_of_w})[0]\n",
    "new_w.name = \"log(exp(x + y))\"\n",
    "pytensor.dprint(new_w)"
   ]
  },
  {
   "cell_type": "markdown",
   "metadata": {},
   "source": [
    "Finally, we can test the modified graph by passing some input to the new graph."
   ]
  },
  {
   "cell_type": "code",
   "execution_count": 17,
   "metadata": {},
   "outputs": [
    {
     "data": {
      "text/plain": [
       "array([1.        , 2.71828183])"
      ]
     },
     "execution_count": 17,
     "metadata": {},
     "output_type": "execute_result"
    }
   ],
   "source": [
    "new_w.eval({x: 0, y: [1, np.e]})"
   ]
  },
  {
   "cell_type": "markdown",
   "metadata": {},
   "source": [
    "As expected, the new graph is just the identity function."
   ]
  },
  {
   "cell_type": "markdown",
   "metadata": {},
   "source": [
    "> NOTE:\n",
    "> Again, note that `pytensor` is clever enough to omit the `exp` and `log` once we compile the function."
   ]
  },
  {
   "cell_type": "code",
   "execution_count": 18,
   "metadata": {},
   "outputs": [
    {
     "name": "stdout",
     "output_type": "stream",
     "text": [
      "Add [id A] 'x + y' 1\n",
      " ├─ ExpandDims{axis=0} [id B] 0\n",
      " │  └─ x [id C]\n",
      " └─ y [id D]\n"
     ]
    },
    {
     "data": {
      "text/plain": [
       "<ipykernel.iostream.OutStream at 0x7fc802803f70>"
      ]
     },
     "execution_count": 18,
     "metadata": {},
     "output_type": "execute_result"
    }
   ],
   "source": [
    "f = pytensor.function(inputs=[x, y], outputs=new_w)\n",
    "\n",
    "pytensor.dprint(f)"
   ]
  },
  {
   "cell_type": "code",
   "execution_count": null,
   "metadata": {},
   "outputs": [
    {
     "data": {
      "text/plain": [
       "array([1.        , 2.71828183])"
      ]
     },
     "execution_count": 19,
     "metadata": {},
     "output_type": "execute_result"
    }
   ],
   "source": [
    "f(0, [1, np.e])"
   ]
  },
  {
   "cell_type": "markdown",
   "metadata": {},
   "source": [
    "### Example: Logistic Regression\n",
    "\n",
    "Here is a non-trivial example, which uses PyTensor to estimate the parameters of a logistic regression model using a simple version of gradient descent. We will use a bioassay example as a test case.\n",
    "\n",
    "Gelman et al. (2003) present an example of an acute toxicity test, commonly performed on animals to estimate the toxicity of various compounds.\n",
    "\n",
    "In this dataset `log_dose` includes 4 levels of dosage, on the log scale, each administered to `n=5` rats during the experiment. The response variable is `death`, the number of positive responses to the dosage.\n",
    "\n",
    "The number of deaths can be modeled as a binomial response, with the probability of death being a linear function of dose:\n",
    "\n",
    "$$\\begin{aligned}\n",
    "\\text{logit}(p_i) &= a + b x_i \\\\\n",
    "y_i &\\sim \\text{Bin}(n_i, p_i) \\\\\n",
    "\\end{aligned}$$\n",
    "\n",
    "The common statistic of interest in such experiments is the **LD50**, the dosage at which the probability of death is 50%."
   ]
  },
  {
   "cell_type": "code",
   "execution_count": null,
   "metadata": {},
   "outputs": [],
   "source": [
    "import numpy as np\n",
    "\n",
    "rng = np.random\n",
    "\n",
    "dose = np.array([-0.86, -0.3 , -0.05,  0.73])\n",
    "n = 5\n",
    "deaths = np.array([0, 1, 3, 5])"
   ]
  },
  {
   "cell_type": "markdown",
   "metadata": {},
   "source": [
    "First, let's declare our symbolic variables."
   ]
  },
  {
   "cell_type": "code",
   "execution_count": 53,
   "metadata": {},
   "outputs": [],
   "source": [
    "X = pt.tensor(\"X\", shape=(None,))\n",
    "Y = pt.tensor(\"Y\", shape=(None,))\n",
    "a = pt.tensor(\"a\", shape=())\n",
    "b = pt.tensor(\"b\", shape=())"
   ]
  },
  {
   "cell_type": "markdown",
   "metadata": {},
   "source": [
    "... then construct the expression graph:"
   ]
  },
  {
   "cell_type": "code",
   "execution_count": 54,
   "metadata": {},
   "outputs": [],
   "source": [
    "# Probability that target = 1\n",
    "p_1 = 1 / (1 + pt.exp(-(a +X*b))) \n",
    "p_1.name = \"prob_target_1\"\n",
    "\n",
    "# The prediction threshold\n",
    "prediction = p_1 > 0.5         \n",
    "\n",
    "# Cross-entropy loss function\n",
    "xent = -Y * pt.log(p_1) - (n-Y) * pt.log(1-p_1) \n",
    "xent.name = \"cross-entropy\"\n",
    "\n",
    "# The cost to minimize\n",
    "cost = xent.mean()      \n",
    "\n",
    "# Compute the gradient of the cost\n",
    "ga, gb = pt.grad(cost, [a, b])  \n",
    "\n",
    "# Learning rate\n",
    "step = pt.tensor('step', shape=())\n",
    "\n",
    "# Update the parameters\n",
    "a_new = a - step * ga\n",
    "b_new = b - step * gb\n",
    "step_new = step * 0.99"
   ]
  },
  {
   "cell_type": "markdown",
   "metadata": {},
   "source": [
    "Recall that in order to use these expressions, we need to compile them into functions.\n",
    "\n",
    "Below we compile two functions: `train()` which performs gradient descent by updating parameters based on input data, and `predict()` which makes predictions using the current parameter values. "
   ]
  },
  {
   "cell_type": "code",
   "execution_count": 55,
   "metadata": {},
   "outputs": [],
   "source": [
    "train = pytensor.function(\n",
    "          inputs=[X, Y, a, b, step],\n",
    "          outputs=[prediction, xent, a_new, b_new, step_new],\n",
    ")\n",
    "predict = pytensor.function(inputs=[X, a, b], outputs=prediction)"
   ]
  },
  {
   "cell_type": "markdown",
   "metadata": {},
   "source": [
    "Now we can train the model."
   ]
  },
  {
   "cell_type": "code",
   "execution_count": null,
   "metadata": {},
   "outputs": [
    {
     "name": "stdout",
     "output_type": "stream",
     "text": [
      "Final model: 0.8536420249683847 7.795152457538434\n"
     ]
    }
   ],
   "source": [
    "alpha, beta, lr = 0., 1., 10.\n",
    "training_steps = 1000\n",
    "for i in range(training_steps):\n",
    "    pred, err, alpha, beta, lr = train(dose, deaths, alpha, beta, lr)\n",
    "    \n",
    "print(\"Final model:\", alpha, beta)"
   ]
  },
  {
   "cell_type": "code",
   "execution_count": null,
   "metadata": {},
   "outputs": [
    {
     "data": {
      "application/vnd.plotly.v1+json": {
       "config": {
        "plotlyServerURL": "https://plot.ly"
       },
       "data": [
        {
         "mode": "lines",
         "name": "Fitted Model",
         "type": "scatter",
         "x": {
          "bdata": "AAAAAAAA8L+sD431obHuv1kfGutDY+2/BS+n4OUU7L+yPjTWh8bqv15OwcspeOm/Cl5Owcsp6L+3bdu2bdvmv2R9aKwPjeW/EI31obE+5L+8nIKXU/Div2msD431oeG/FbycgpdT4L+El1Pwcgrev9y2bdu2bdu/NtaHxvrQ2L+O9aGxPjTWv+YUvJyCl9O/QDTWh8b60L8wp+DlFLzMv+TlFLycgse/lCRJkiRJwr+QxvrQWB+6v+CHxvrQWK+/QAUvp+DllL9ABS+n4OWUP8CHxvrQWK8/gMb60Fgfuj+QJEmSJEnCP+DlFLycgsc/KKfg5RS8zD88NNaHxvrQP+QUvJyCl9M/jPWhsT401j801ofG+tDYP9i2bdu2bds/gJdT8HIK3j8UvJyCl1PgP2isD431oeE/upyCl1Pw4j8OjfWhsT7kP2J9aKwPjeU/tm3btm3b5j8KXk7ByynoP1xOwcspeOk/sD401ofG6j8EL6fg5RTsP1gfGutDY+0/rA+N9aGx7j8AAAAAAADwPw==",
          "dtype": "f8"
         },
         "y": {
          "bdata": "EYfXb1emTz+DScAzw75VP1Q48wZS4F0/DKsAMSOFZD8VzMLePS5sP5IaUwcAWHM/s+oNMQuLej+FuWZ49DKCP8zEYIn+7og/ZqSh4yQPkT/Xtj6Q4k2XPytRLuBvw58/Ylp8HpSUpT+f3qDUFzStP8oRAuXbprM/oZ8eRyhCuj8TA8weNmHBPwLYARznu8Y/kEqGvgRNzT/ol6fITYzSP0jwv6bW/9Y/PUxXEzLd2z/gg1KKMnfgP4aLU3fe+eI/by9OVeZX5T/UGgUSRXnnPwP9+dfHT+k/r3SmKCnX6j9/wUx59BLsPxZXgiSPC+0/H5+g43/L7T/98zZjel3uP81iayk8y+4/qpWfdAwd7z+Nw189pFnvP6fpjd1Nhu8/giBW4Run7z9MtnRKJL/vP8/BPwa30O8/6gsyAYzd7z9iX5tF6ObvP39wKfe67e8/Pkr0e7Py7z/2mDswUvbvPwWfwdz0+O8/WgBp8t/67z85LnVYRfzvP60THGxJ/e8/HH7SqQb+7z+ueJRakP7vPw==",
          "dtype": "f8"
         }
        },
        {
         "marker": {
          "color": "red",
          "size": 10
         },
         "mode": "markers",
         "name": "Observed Data",
         "type": "scatter",
         "x": {
          "bdata": "hetRuB6F678zMzMzMzPTv5qZmZmZmam/XI/C9Shc5z8=",
          "dtype": "f8"
         },
         "y": [
          0,
          0.2,
          0.6,
          1
         ]
        }
       ],
       "layout": {
        "template": {
         "data": {
          "bar": [
           {
            "error_x": {
             "color": "#2a3f5f"
            },
            "error_y": {
             "color": "#2a3f5f"
            },
            "marker": {
             "line": {
              "color": "#E5ECF6",
              "width": 0.5
             },
             "pattern": {
              "fillmode": "overlay",
              "size": 10,
              "solidity": 0.2
             }
            },
            "type": "bar"
           }
          ],
          "barpolar": [
           {
            "marker": {
             "line": {
              "color": "#E5ECF6",
              "width": 0.5
             },
             "pattern": {
              "fillmode": "overlay",
              "size": 10,
              "solidity": 0.2
             }
            },
            "type": "barpolar"
           }
          ],
          "carpet": [
           {
            "aaxis": {
             "endlinecolor": "#2a3f5f",
             "gridcolor": "white",
             "linecolor": "white",
             "minorgridcolor": "white",
             "startlinecolor": "#2a3f5f"
            },
            "baxis": {
             "endlinecolor": "#2a3f5f",
             "gridcolor": "white",
             "linecolor": "white",
             "minorgridcolor": "white",
             "startlinecolor": "#2a3f5f"
            },
            "type": "carpet"
           }
          ],
          "choropleth": [
           {
            "colorbar": {
             "outlinewidth": 0,
             "ticks": ""
            },
            "type": "choropleth"
           }
          ],
          "contour": [
           {
            "colorbar": {
             "outlinewidth": 0,
             "ticks": ""
            },
            "colorscale": [
             [
              0,
              "#0d0887"
             ],
             [
              0.1111111111111111,
              "#46039f"
             ],
             [
              0.2222222222222222,
              "#7201a8"
             ],
             [
              0.3333333333333333,
              "#9c179e"
             ],
             [
              0.4444444444444444,
              "#bd3786"
             ],
             [
              0.5555555555555556,
              "#d8576b"
             ],
             [
              0.6666666666666666,
              "#ed7953"
             ],
             [
              0.7777777777777778,
              "#fb9f3a"
             ],
             [
              0.8888888888888888,
              "#fdca26"
             ],
             [
              1,
              "#f0f921"
             ]
            ],
            "type": "contour"
           }
          ],
          "contourcarpet": [
           {
            "colorbar": {
             "outlinewidth": 0,
             "ticks": ""
            },
            "type": "contourcarpet"
           }
          ],
          "heatmap": [
           {
            "colorbar": {
             "outlinewidth": 0,
             "ticks": ""
            },
            "colorscale": [
             [
              0,
              "#0d0887"
             ],
             [
              0.1111111111111111,
              "#46039f"
             ],
             [
              0.2222222222222222,
              "#7201a8"
             ],
             [
              0.3333333333333333,
              "#9c179e"
             ],
             [
              0.4444444444444444,
              "#bd3786"
             ],
             [
              0.5555555555555556,
              "#d8576b"
             ],
             [
              0.6666666666666666,
              "#ed7953"
             ],
             [
              0.7777777777777778,
              "#fb9f3a"
             ],
             [
              0.8888888888888888,
              "#fdca26"
             ],
             [
              1,
              "#f0f921"
             ]
            ],
            "type": "heatmap"
           }
          ],
          "histogram": [
           {
            "marker": {
             "pattern": {
              "fillmode": "overlay",
              "size": 10,
              "solidity": 0.2
             }
            },
            "type": "histogram"
           }
          ],
          "histogram2d": [
           {
            "colorbar": {
             "outlinewidth": 0,
             "ticks": ""
            },
            "colorscale": [
             [
              0,
              "#0d0887"
             ],
             [
              0.1111111111111111,
              "#46039f"
             ],
             [
              0.2222222222222222,
              "#7201a8"
             ],
             [
              0.3333333333333333,
              "#9c179e"
             ],
             [
              0.4444444444444444,
              "#bd3786"
             ],
             [
              0.5555555555555556,
              "#d8576b"
             ],
             [
              0.6666666666666666,
              "#ed7953"
             ],
             [
              0.7777777777777778,
              "#fb9f3a"
             ],
             [
              0.8888888888888888,
              "#fdca26"
             ],
             [
              1,
              "#f0f921"
             ]
            ],
            "type": "histogram2d"
           }
          ],
          "histogram2dcontour": [
           {
            "colorbar": {
             "outlinewidth": 0,
             "ticks": ""
            },
            "colorscale": [
             [
              0,
              "#0d0887"
             ],
             [
              0.1111111111111111,
              "#46039f"
             ],
             [
              0.2222222222222222,
              "#7201a8"
             ],
             [
              0.3333333333333333,
              "#9c179e"
             ],
             [
              0.4444444444444444,
              "#bd3786"
             ],
             [
              0.5555555555555556,
              "#d8576b"
             ],
             [
              0.6666666666666666,
              "#ed7953"
             ],
             [
              0.7777777777777778,
              "#fb9f3a"
             ],
             [
              0.8888888888888888,
              "#fdca26"
             ],
             [
              1,
              "#f0f921"
             ]
            ],
            "type": "histogram2dcontour"
           }
          ],
          "mesh3d": [
           {
            "colorbar": {
             "outlinewidth": 0,
             "ticks": ""
            },
            "type": "mesh3d"
           }
          ],
          "parcoords": [
           {
            "line": {
             "colorbar": {
              "outlinewidth": 0,
              "ticks": ""
             }
            },
            "type": "parcoords"
           }
          ],
          "pie": [
           {
            "automargin": true,
            "type": "pie"
           }
          ],
          "scatter": [
           {
            "fillpattern": {
             "fillmode": "overlay",
             "size": 10,
             "solidity": 0.2
            },
            "type": "scatter"
           }
          ],
          "scatter3d": [
           {
            "line": {
             "colorbar": {
              "outlinewidth": 0,
              "ticks": ""
             }
            },
            "marker": {
             "colorbar": {
              "outlinewidth": 0,
              "ticks": ""
             }
            },
            "type": "scatter3d"
           }
          ],
          "scattercarpet": [
           {
            "marker": {
             "colorbar": {
              "outlinewidth": 0,
              "ticks": ""
             }
            },
            "type": "scattercarpet"
           }
          ],
          "scattergeo": [
           {
            "marker": {
             "colorbar": {
              "outlinewidth": 0,
              "ticks": ""
             }
            },
            "type": "scattergeo"
           }
          ],
          "scattergl": [
           {
            "marker": {
             "colorbar": {
              "outlinewidth": 0,
              "ticks": ""
             }
            },
            "type": "scattergl"
           }
          ],
          "scattermap": [
           {
            "marker": {
             "colorbar": {
              "outlinewidth": 0,
              "ticks": ""
             }
            },
            "type": "scattermap"
           }
          ],
          "scattermapbox": [
           {
            "marker": {
             "colorbar": {
              "outlinewidth": 0,
              "ticks": ""
             }
            },
            "type": "scattermapbox"
           }
          ],
          "scatterpolar": [
           {
            "marker": {
             "colorbar": {
              "outlinewidth": 0,
              "ticks": ""
             }
            },
            "type": "scatterpolar"
           }
          ],
          "scatterpolargl": [
           {
            "marker": {
             "colorbar": {
              "outlinewidth": 0,
              "ticks": ""
             }
            },
            "type": "scatterpolargl"
           }
          ],
          "scatterternary": [
           {
            "marker": {
             "colorbar": {
              "outlinewidth": 0,
              "ticks": ""
             }
            },
            "type": "scatterternary"
           }
          ],
          "surface": [
           {
            "colorbar": {
             "outlinewidth": 0,
             "ticks": ""
            },
            "colorscale": [
             [
              0,
              "#0d0887"
             ],
             [
              0.1111111111111111,
              "#46039f"
             ],
             [
              0.2222222222222222,
              "#7201a8"
             ],
             [
              0.3333333333333333,
              "#9c179e"
             ],
             [
              0.4444444444444444,
              "#bd3786"
             ],
             [
              0.5555555555555556,
              "#d8576b"
             ],
             [
              0.6666666666666666,
              "#ed7953"
             ],
             [
              0.7777777777777778,
              "#fb9f3a"
             ],
             [
              0.8888888888888888,
              "#fdca26"
             ],
             [
              1,
              "#f0f921"
             ]
            ],
            "type": "surface"
           }
          ],
          "table": [
           {
            "cells": {
             "fill": {
              "color": "#EBF0F8"
             },
             "line": {
              "color": "white"
             }
            },
            "header": {
             "fill": {
              "color": "#C8D4E3"
             },
             "line": {
              "color": "white"
             }
            },
            "type": "table"
           }
          ]
         },
         "layout": {
          "annotationdefaults": {
           "arrowcolor": "#2a3f5f",
           "arrowhead": 0,
           "arrowwidth": 1
          },
          "autotypenumbers": "strict",
          "coloraxis": {
           "colorbar": {
            "outlinewidth": 0,
            "ticks": ""
           }
          },
          "colorscale": {
           "diverging": [
            [
             0,
             "#8e0152"
            ],
            [
             0.1,
             "#c51b7d"
            ],
            [
             0.2,
             "#de77ae"
            ],
            [
             0.3,
             "#f1b6da"
            ],
            [
             0.4,
             "#fde0ef"
            ],
            [
             0.5,
             "#f7f7f7"
            ],
            [
             0.6,
             "#e6f5d0"
            ],
            [
             0.7,
             "#b8e186"
            ],
            [
             0.8,
             "#7fbc41"
            ],
            [
             0.9,
             "#4d9221"
            ],
            [
             1,
             "#276419"
            ]
           ],
           "sequential": [
            [
             0,
             "#0d0887"
            ],
            [
             0.1111111111111111,
             "#46039f"
            ],
            [
             0.2222222222222222,
             "#7201a8"
            ],
            [
             0.3333333333333333,
             "#9c179e"
            ],
            [
             0.4444444444444444,
             "#bd3786"
            ],
            [
             0.5555555555555556,
             "#d8576b"
            ],
            [
             0.6666666666666666,
             "#ed7953"
            ],
            [
             0.7777777777777778,
             "#fb9f3a"
            ],
            [
             0.8888888888888888,
             "#fdca26"
            ],
            [
             1,
             "#f0f921"
            ]
           ],
           "sequentialminus": [
            [
             0,
             "#0d0887"
            ],
            [
             0.1111111111111111,
             "#46039f"
            ],
            [
             0.2222222222222222,
             "#7201a8"
            ],
            [
             0.3333333333333333,
             "#9c179e"
            ],
            [
             0.4444444444444444,
             "#bd3786"
            ],
            [
             0.5555555555555556,
             "#d8576b"
            ],
            [
             0.6666666666666666,
             "#ed7953"
            ],
            [
             0.7777777777777778,
             "#fb9f3a"
            ],
            [
             0.8888888888888888,
             "#fdca26"
            ],
            [
             1,
             "#f0f921"
            ]
           ]
          },
          "colorway": [
           "#636efa",
           "#EF553B",
           "#00cc96",
           "#ab63fa",
           "#FFA15A",
           "#19d3f3",
           "#FF6692",
           "#B6E880",
           "#FF97FF",
           "#FECB52"
          ],
          "font": {
           "color": "#2a3f5f"
          },
          "geo": {
           "bgcolor": "white",
           "lakecolor": "white",
           "landcolor": "#E5ECF6",
           "showlakes": true,
           "showland": true,
           "subunitcolor": "white"
          },
          "hoverlabel": {
           "align": "left"
          },
          "hovermode": "closest",
          "mapbox": {
           "style": "light"
          },
          "paper_bgcolor": "white",
          "plot_bgcolor": "#E5ECF6",
          "polar": {
           "angularaxis": {
            "gridcolor": "white",
            "linecolor": "white",
            "ticks": ""
           },
           "bgcolor": "#E5ECF6",
           "radialaxis": {
            "gridcolor": "white",
            "linecolor": "white",
            "ticks": ""
           }
          },
          "scene": {
           "xaxis": {
            "backgroundcolor": "#E5ECF6",
            "gridcolor": "white",
            "gridwidth": 2,
            "linecolor": "white",
            "showbackground": true,
            "ticks": "",
            "zerolinecolor": "white"
           },
           "yaxis": {
            "backgroundcolor": "#E5ECF6",
            "gridcolor": "white",
            "gridwidth": 2,
            "linecolor": "white",
            "showbackground": true,
            "ticks": "",
            "zerolinecolor": "white"
           },
           "zaxis": {
            "backgroundcolor": "#E5ECF6",
            "gridcolor": "white",
            "gridwidth": 2,
            "linecolor": "white",
            "showbackground": true,
            "ticks": "",
            "zerolinecolor": "white"
           }
          },
          "shapedefaults": {
           "line": {
            "color": "#2a3f5f"
           }
          },
          "ternary": {
           "aaxis": {
            "gridcolor": "white",
            "linecolor": "white",
            "ticks": ""
           },
           "baxis": {
            "gridcolor": "white",
            "linecolor": "white",
            "ticks": ""
           },
           "bgcolor": "#E5ECF6",
           "caxis": {
            "gridcolor": "white",
            "linecolor": "white",
            "ticks": ""
           }
          },
          "title": {
           "x": 0.05
          },
          "xaxis": {
           "automargin": true,
           "gridcolor": "white",
           "linecolor": "white",
           "ticks": "",
           "title": {
            "standoff": 15
           },
           "zerolinecolor": "white",
           "zerolinewidth": 2
          },
          "yaxis": {
           "automargin": true,
           "gridcolor": "white",
           "linecolor": "white",
           "ticks": "",
           "title": {
            "standoff": 15
           },
           "zerolinecolor": "white",
           "zerolinewidth": 2
          }
         }
        },
        "title": {
         "text": "Logistic Regression Model"
        },
        "width": 600,
        "xaxis": {
         "title": {
          "text": "Log Dose"
         }
        },
        "yaxis": {
         "title": {
          "text": "Probability of Death"
         }
        }
       }
      }
     },
     "metadata": {},
     "output_type": "display_data"
    }
   ],
   "source": [
    "def logit(x): \n",
    "    return 1. / (1 + np.exp(-x))\n",
    "    \n",
    "xvals = np.linspace(-1, 1)\n",
    "\n",
    "go.Figure().add_trace(go.Scatter(\n",
    "    x=xvals, \n",
    "    y=logit(beta*xvals + alpha),\n",
    "    mode='lines',\n",
    "    name='Fitted Model'\n",
    ")).add_trace(go.Scatter(\n",
    "    x=dose, \n",
    "    y=[d/n for d in deaths],\n",
    "    mode='markers',\n",
    "    marker=dict(color='red', size=10),\n",
    "    name='Observed Data'\n",
    ")).update_layout(\n",
    "    title='Logistic Regression Model',\n",
    "    xaxis_title='Log Dose',\n",
    "    yaxis_title='Probability of Death',\n",
    "    width=600\n",
    ").show()"
   ]
  },
  {
   "cell_type": "markdown",
   "metadata": {},
   "source": [
    "ADD STABILIZATION AND CANONICALIZATION REWRITES(?)"
   ]
  },
  {
   "cell_type": "markdown",
   "metadata": {},
   "source": [
    "## PyMC Variable Classes\n",
    "\n",
    "Bayesian inference begins with specification of a probability model relating unknown variables to data. PyMC provides the basic building blocks for Bayesian probability models: stochastic random variables, deterministic variables, and factor potentials. \n",
    "\n",
    "A **stochastic random variable** is a factor whose value is not completely determined by its parents, while the value of a **deterministic random variable** is entirely determined by its parents. Most models can be constructed using only these two variable types. The third quantity, the **factor potential**, is *not* a variable but simply a\n",
    "log-likelihood term or constraint that is added to the joint log-probability to modify it."
   ]
  },
  {
   "cell_type": "markdown",
   "metadata": {},
   "source": [
    "### The Distribution Class\n",
    "\n",
    "A stochastic variable is represented in PyMC by a `Distribution` class. This structure adds functionality to Pytensor's `pytensor.tensor.random.op.RandomVariable` class, mainly by registering it with an associated PyMC `Model` -- so `Distribution` objects are only usable inside of a `Model` context.\n",
    "\n",
    "`Distribution` subclasses (i.e. implementations of specific statistical distributions) will accept several arguments when constructed:\n",
    "\n",
    "`name`\n",
    ":   Name for the new model variable. This argument is **required**, and is used as a label and index value for the variable.\n",
    "\n",
    "`model`\n",
    ":   The PyMC model to which the variable belongs.\n",
    "\n",
    "`shape`\n",
    ":   The variable's shape.\n",
    "\n",
    "`total_size`\n",
    ":   The overall size of the variable (this variable will not exist for scalars).\n",
    "\n",
    "`dims`\n",
    ":   A tuple of dimension names known to the model.\n",
    "\n",
    "`transform`\n",
    ":   A transformation to be applied to the distribution when used by the model, especially when the distribution is constrained.\n",
    "\n",
    "`initval`\n",
    ":   Numeric or symbolic untransformed initial value of matching shape, or one of the following initial value strategies: \"moment\", \"prior\". Depending on the sampler's settings, a random jitter may be added to numeric, symbolic or moment-based initial values in the transformed space.\n",
    "\n",
    "\n",
    "Sometimes we wish to use a particular statistical distribution, without using it as a variable in a model; for example, to generate random numbers from the distribution. For this purpose, `Distribution` objects have a method `dist` that returns a **stateless** probability distribution of that type; that is, without being wrapped in a PyMC random variable object. "
   ]
  },
  {
   "cell_type": "code",
   "execution_count": 26,
   "metadata": {},
   "outputs": [
    {
     "data": {
      "application/vnd.plotly.v1+json": {
       "config": {
        "plotlyServerURL": "https://plot.ly"
       },
       "data": [
        {
         "bingroup": "x",
         "hovertemplate": "variable=0<br>value=%{x}<br>count=%{y}<extra></extra>",
         "legendgroup": "0",
         "marker": {
          "color": "#636efa",
          "pattern": {
           "shape": ""
          }
         },
         "name": "0",
         "orientation": "v",
         "showlegend": true,
         "type": "histogram",
         "x": {
          "bdata": "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",
          "dtype": "f8"
         },
         "xaxis": "x",
         "yaxis": "y"
        }
       ],
       "layout": {
        "barmode": "relative",
        "legend": {
         "title": {
          "text": "variable"
         },
         "tracegroupgap": 0
        },
        "showlegend": false,
        "template": {
         "data": {
          "bar": [
           {
            "error_x": {
             "color": "#2a3f5f"
            },
            "error_y": {
             "color": "#2a3f5f"
            },
            "marker": {
             "line": {
              "color": "#E5ECF6",
              "width": 0.5
             },
             "pattern": {
              "fillmode": "overlay",
              "size": 10,
              "solidity": 0.2
             }
            },
            "type": "bar"
           }
          ],
          "barpolar": [
           {
            "marker": {
             "line": {
              "color": "#E5ECF6",
              "width": 0.5
             },
             "pattern": {
              "fillmode": "overlay",
              "size": 10,
              "solidity": 0.2
             }
            },
            "type": "barpolar"
           }
          ],
          "carpet": [
           {
            "aaxis": {
             "endlinecolor": "#2a3f5f",
             "gridcolor": "white",
             "linecolor": "white",
             "minorgridcolor": "white",
             "startlinecolor": "#2a3f5f"
            },
            "baxis": {
             "endlinecolor": "#2a3f5f",
             "gridcolor": "white",
             "linecolor": "white",
             "minorgridcolor": "white",
             "startlinecolor": "#2a3f5f"
            },
            "type": "carpet"
           }
          ],
          "choropleth": [
           {
            "colorbar": {
             "outlinewidth": 0,
             "ticks": ""
            },
            "type": "choropleth"
           }
          ],
          "contour": [
           {
            "colorbar": {
             "outlinewidth": 0,
             "ticks": ""
            },
            "colorscale": [
             [
              0,
              "#0d0887"
             ],
             [
              0.1111111111111111,
              "#46039f"
             ],
             [
              0.2222222222222222,
              "#7201a8"
             ],
             [
              0.3333333333333333,
              "#9c179e"
             ],
             [
              0.4444444444444444,
              "#bd3786"
             ],
             [
              0.5555555555555556,
              "#d8576b"
             ],
             [
              0.6666666666666666,
              "#ed7953"
             ],
             [
              0.7777777777777778,
              "#fb9f3a"
             ],
             [
              0.8888888888888888,
              "#fdca26"
             ],
             [
              1,
              "#f0f921"
             ]
            ],
            "type": "contour"
           }
          ],
          "contourcarpet": [
           {
            "colorbar": {
             "outlinewidth": 0,
             "ticks": ""
            },
            "type": "contourcarpet"
           }
          ],
          "heatmap": [
           {
            "colorbar": {
             "outlinewidth": 0,
             "ticks": ""
            },
            "colorscale": [
             [
              0,
              "#0d0887"
             ],
             [
              0.1111111111111111,
              "#46039f"
             ],
             [
              0.2222222222222222,
              "#7201a8"
             ],
             [
              0.3333333333333333,
              "#9c179e"
             ],
             [
              0.4444444444444444,
              "#bd3786"
             ],
             [
              0.5555555555555556,
              "#d8576b"
             ],
             [
              0.6666666666666666,
              "#ed7953"
             ],
             [
              0.7777777777777778,
              "#fb9f3a"
             ],
             [
              0.8888888888888888,
              "#fdca26"
             ],
             [
              1,
              "#f0f921"
             ]
            ],
            "type": "heatmap"
           }
          ],
          "histogram": [
           {
            "marker": {
             "pattern": {
              "fillmode": "overlay",
              "size": 10,
              "solidity": 0.2
             }
            },
            "type": "histogram"
           }
          ],
          "histogram2d": [
           {
            "colorbar": {
             "outlinewidth": 0,
             "ticks": ""
            },
            "colorscale": [
             [
              0,
              "#0d0887"
             ],
             [
              0.1111111111111111,
              "#46039f"
             ],
             [
              0.2222222222222222,
              "#7201a8"
             ],
             [
              0.3333333333333333,
              "#9c179e"
             ],
             [
              0.4444444444444444,
              "#bd3786"
             ],
             [
              0.5555555555555556,
              "#d8576b"
             ],
             [
              0.6666666666666666,
              "#ed7953"
             ],
             [
              0.7777777777777778,
              "#fb9f3a"
             ],
             [
              0.8888888888888888,
              "#fdca26"
             ],
             [
              1,
              "#f0f921"
             ]
            ],
            "type": "histogram2d"
           }
          ],
          "histogram2dcontour": [
           {
            "colorbar": {
             "outlinewidth": 0,
             "ticks": ""
            },
            "colorscale": [
             [
              0,
              "#0d0887"
             ],
             [
              0.1111111111111111,
              "#46039f"
             ],
             [
              0.2222222222222222,
              "#7201a8"
             ],
             [
              0.3333333333333333,
              "#9c179e"
             ],
             [
              0.4444444444444444,
              "#bd3786"
             ],
             [
              0.5555555555555556,
              "#d8576b"
             ],
             [
              0.6666666666666666,
              "#ed7953"
             ],
             [
              0.7777777777777778,
              "#fb9f3a"
             ],
             [
              0.8888888888888888,
              "#fdca26"
             ],
             [
              1,
              "#f0f921"
             ]
            ],
            "type": "histogram2dcontour"
           }
          ],
          "mesh3d": [
           {
            "colorbar": {
             "outlinewidth": 0,
             "ticks": ""
            },
            "type": "mesh3d"
           }
          ],
          "parcoords": [
           {
            "line": {
             "colorbar": {
              "outlinewidth": 0,
              "ticks": ""
             }
            },
            "type": "parcoords"
           }
          ],
          "pie": [
           {
            "automargin": true,
            "type": "pie"
           }
          ],
          "scatter": [
           {
            "fillpattern": {
             "fillmode": "overlay",
             "size": 10,
             "solidity": 0.2
            },
            "type": "scatter"
           }
          ],
          "scatter3d": [
           {
            "line": {
             "colorbar": {
              "outlinewidth": 0,
              "ticks": ""
             }
            },
            "marker": {
             "colorbar": {
              "outlinewidth": 0,
              "ticks": ""
             }
            },
            "type": "scatter3d"
           }
          ],
          "scattercarpet": [
           {
            "marker": {
             "colorbar": {
              "outlinewidth": 0,
              "ticks": ""
             }
            },
            "type": "scattercarpet"
           }
          ],
          "scattergeo": [
           {
            "marker": {
             "colorbar": {
              "outlinewidth": 0,
              "ticks": ""
             }
            },
            "type": "scattergeo"
           }
          ],
          "scattergl": [
           {
            "marker": {
             "colorbar": {
              "outlinewidth": 0,
              "ticks": ""
             }
            },
            "type": "scattergl"
           }
          ],
          "scattermap": [
           {
            "marker": {
             "colorbar": {
              "outlinewidth": 0,
              "ticks": ""
             }
            },
            "type": "scattermap"
           }
          ],
          "scattermapbox": [
           {
            "marker": {
             "colorbar": {
              "outlinewidth": 0,
              "ticks": ""
             }
            },
            "type": "scattermapbox"
           }
          ],
          "scatterpolar": [
           {
            "marker": {
             "colorbar": {
              "outlinewidth": 0,
              "ticks": ""
             }
            },
            "type": "scatterpolar"
           }
          ],
          "scatterpolargl": [
           {
            "marker": {
             "colorbar": {
              "outlinewidth": 0,
              "ticks": ""
             }
            },
            "type": "scatterpolargl"
           }
          ],
          "scatterternary": [
           {
            "marker": {
             "colorbar": {
              "outlinewidth": 0,
              "ticks": ""
             }
            },
            "type": "scatterternary"
           }
          ],
          "surface": [
           {
            "colorbar": {
             "outlinewidth": 0,
             "ticks": ""
            },
            "colorscale": [
             [
              0,
              "#0d0887"
             ],
             [
              0.1111111111111111,
              "#46039f"
             ],
             [
              0.2222222222222222,
              "#7201a8"
             ],
             [
              0.3333333333333333,
              "#9c179e"
             ],
             [
              0.4444444444444444,
              "#bd3786"
             ],
             [
              0.5555555555555556,
              "#d8576b"
             ],
             [
              0.6666666666666666,
              "#ed7953"
             ],
             [
              0.7777777777777778,
              "#fb9f3a"
             ],
             [
              0.8888888888888888,
              "#fdca26"
             ],
             [
              1,
              "#f0f921"
             ]
            ],
            "type": "surface"
           }
          ],
          "table": [
           {
            "cells": {
             "fill": {
              "color": "#EBF0F8"
             },
             "line": {
              "color": "white"
             }
            },
            "header": {
             "fill": {
              "color": "#C8D4E3"
             },
             "line": {
              "color": "white"
             }
            },
            "type": "table"
           }
          ]
         },
         "layout": {
          "annotationdefaults": {
           "arrowcolor": "#2a3f5f",
           "arrowhead": 0,
           "arrowwidth": 1
          },
          "autotypenumbers": "strict",
          "coloraxis": {
           "colorbar": {
            "outlinewidth": 0,
            "ticks": ""
           }
          },
          "colorscale": {
           "diverging": [
            [
             0,
             "#8e0152"
            ],
            [
             0.1,
             "#c51b7d"
            ],
            [
             0.2,
             "#de77ae"
            ],
            [
             0.3,
             "#f1b6da"
            ],
            [
             0.4,
             "#fde0ef"
            ],
            [
             0.5,
             "#f7f7f7"
            ],
            [
             0.6,
             "#e6f5d0"
            ],
            [
             0.7,
             "#b8e186"
            ],
            [
             0.8,
             "#7fbc41"
            ],
            [
             0.9,
             "#4d9221"
            ],
            [
             1,
             "#276419"
            ]
           ],
           "sequential": [
            [
             0,
             "#0d0887"
            ],
            [
             0.1111111111111111,
             "#46039f"
            ],
            [
             0.2222222222222222,
             "#7201a8"
            ],
            [
             0.3333333333333333,
             "#9c179e"
            ],
            [
             0.4444444444444444,
             "#bd3786"
            ],
            [
             0.5555555555555556,
             "#d8576b"
            ],
            [
             0.6666666666666666,
             "#ed7953"
            ],
            [
             0.7777777777777778,
             "#fb9f3a"
            ],
            [
             0.8888888888888888,
             "#fdca26"
            ],
            [
             1,
             "#f0f921"
            ]
           ],
           "sequentialminus": [
            [
             0,
             "#0d0887"
            ],
            [
             0.1111111111111111,
             "#46039f"
            ],
            [
             0.2222222222222222,
             "#7201a8"
            ],
            [
             0.3333333333333333,
             "#9c179e"
            ],
            [
             0.4444444444444444,
             "#bd3786"
            ],
            [
             0.5555555555555556,
             "#d8576b"
            ],
            [
             0.6666666666666666,
             "#ed7953"
            ],
            [
             0.7777777777777778,
             "#fb9f3a"
            ],
            [
             0.8888888888888888,
             "#fdca26"
            ],
            [
             1,
             "#f0f921"
            ]
           ]
          },
          "colorway": [
           "#636efa",
           "#EF553B",
           "#00cc96",
           "#ab63fa",
           "#FFA15A",
           "#19d3f3",
           "#FF6692",
           "#B6E880",
           "#FF97FF",
           "#FECB52"
          ],
          "font": {
           "color": "#2a3f5f"
          },
          "geo": {
           "bgcolor": "white",
           "lakecolor": "white",
           "landcolor": "#E5ECF6",
           "showlakes": true,
           "showland": true,
           "subunitcolor": "white"
          },
          "hoverlabel": {
           "align": "left"
          },
          "hovermode": "closest",
          "mapbox": {
           "style": "light"
          },
          "paper_bgcolor": "white",
          "plot_bgcolor": "#E5ECF6",
          "polar": {
           "angularaxis": {
            "gridcolor": "white",
            "linecolor": "white",
            "ticks": ""
           },
           "bgcolor": "#E5ECF6",
           "radialaxis": {
            "gridcolor": "white",
            "linecolor": "white",
            "ticks": ""
           }
          },
          "scene": {
           "xaxis": {
            "backgroundcolor": "#E5ECF6",
            "gridcolor": "white",
            "gridwidth": 2,
            "linecolor": "white",
            "showbackground": true,
            "ticks": "",
            "zerolinecolor": "white"
           },
           "yaxis": {
            "backgroundcolor": "#E5ECF6",
            "gridcolor": "white",
            "gridwidth": 2,
            "linecolor": "white",
            "showbackground": true,
            "ticks": "",
            "zerolinecolor": "white"
           },
           "zaxis": {
            "backgroundcolor": "#E5ECF6",
            "gridcolor": "white",
            "gridwidth": 2,
            "linecolor": "white",
            "showbackground": true,
            "ticks": "",
            "zerolinecolor": "white"
           }
          },
          "shapedefaults": {
           "line": {
            "color": "#2a3f5f"
           }
          },
          "ternary": {
           "aaxis": {
            "gridcolor": "white",
            "linecolor": "white",
            "ticks": ""
           },
           "baxis": {
            "gridcolor": "white",
            "linecolor": "white",
            "ticks": ""
           },
           "bgcolor": "#E5ECF6",
           "caxis": {
            "gridcolor": "white",
            "linecolor": "white",
            "ticks": ""
           }
          },
          "title": {
           "x": 0.05
          },
          "xaxis": {
           "automargin": true,
           "gridcolor": "white",
           "linecolor": "white",
           "ticks": "",
           "title": {
            "standoff": 15
           },
           "zerolinecolor": "white",
           "zerolinewidth": 2
          },
          "yaxis": {
           "automargin": true,
           "gridcolor": "white",
           "linecolor": "white",
           "ticks": "",
           "title": {
            "standoff": 15
           },
           "zerolinecolor": "white",
           "zerolinewidth": 2
          }
         }
        },
        "title": {
         "text": "Exponential Distribution Samples"
        },
        "xaxis": {
         "anchor": "y",
         "domain": [
          0,
          1
         ],
         "title": {
          "text": "Value"
         }
        },
        "yaxis": {
         "anchor": "x",
         "domain": [
          0,
          1
         ],
         "title": {
          "text": "Count"
         }
        }
       }
      }
     },
     "metadata": {},
     "output_type": "display_data"
    }
   ],
   "source": [
    "import pymc as pm\n",
    "import plotly.express as px\n",
    "\n",
    "x = pm.Exponential.dist(1)\n",
    "samples = pm.draw(x, draws=1000)\n",
    "fig = px.histogram(samples, title=\"Exponential Distribution Samples\")\n",
    "fig.update_layout(xaxis_title=\"Value\", yaxis_title=\"Count\", showlegend=False)\n",
    "fig.show();"
   ]
  },
  {
   "cell_type": "markdown",
   "metadata": {},
   "source": [
    "### Deterministic Variables\n",
    "\n",
    "A deterministic variable is one whose values are **completely determined** by the values of their parents.\n",
    "\n",
    "There are two types of deterministic variables in PyMC:\n",
    "\n",
    "**Anonymous deterministic variables**\n",
    "\n",
    "The easiest way to create a deterministic variable is to operate on or transform one or more variables in a model directly. For example:\n",
    "\n",
    "```python\n",
    "with pm.Model() as model:\n",
    "    x = pm.Normal('x', 0, 1)\n",
    "    y = pm.Normal('y', 0, 1)\n",
    "    z = x + y  # This is an anonymous deterministic variable\n",
    "```\n",
    "\n",
    "These are called *anonymous* variables because we did not wrap it with a call to `Determinstic`, which gives it a name as its first argument. We simply specified the variable as a Python (or, PyTensor) expression. This is therefore the simplest way to construct a determinstic variable. The only caveat is that the values generated by anonymous determinstics at every iteration of a MCMC algorithm, for example, are not recorded to the resulting trace. So, this approach is only appropriate for intermediate values in your model that you do not wish to obtain posterior estimates for, alongside the other variables in the model.\n",
    "\n",
    "**Named deterministic variables**\n",
    "\n",
    "To ensure that deterministic variables' values are accumulated during sampling, they should be instantiated using the named deterministic interface; this uses the `Deterministic` function to create the variable. Two things happen when a variable is created this way:\n",
    "\n",
    "1. The variable is given a name (passed as the first argument)\n",
    "2. The variable is appended to the model's list of random variables, which ensures that its values are tallied.\n",
    "\n",
    "For example:\n",
    "\n",
    "```python\n",
    "with pm.Model() as model:\n",
    "    x = pm.Normal('x', 0, 1)\n",
    "    y = pm.Normal('y', 0, 1)\n",
    "    z = pm.Deterministic('z', x + y)  # This is a named deterministic variable\n",
    "```"
   ]
  },
  {
   "cell_type": "markdown",
   "metadata": {},
   "source": [
    "### Observed Random Variables\n",
    "\n",
    "Stochastic random variables whose values are observed are represented by a different class than unobserved random variables. An `ObservedRV` object is instantiated any time a stochastic variable is specified with data passed as the `observed` argument. For example:\n",
    "\n",
    "```python\n",
    "with pm.Model() as model:\n",
    "    x = pm.Normal('x', 0, 1)\n",
    "    y = pm.Normal('y', x, 1, observed=[0.1, 0.2, 0.3])\n",
    "```\n",
    "\n",
    "An important responsibility of `ObservedRV` is to automatically handle missing values in the data, if there are any."
   ]
  },
  {
   "cell_type": "markdown",
   "metadata": {},
   "source": [
    "### Factor Potentials\n",
    "\n",
    "For some applications, we want to be able to modify the joint density by incorporating terms that don't correspond to probabilities of variables conditional on parents. For example, suppose in the IQ drug model we want to constrain the difference between the placebo and drug means to be less than 10, so that the joint density becomes: \n",
    "\n",
    "$$p(y,\\nu,\\mu_1,\\mu_2, \\sigma_1, \\sigma_2) \\propto p(y|\\nu,\\mu_1,\\mu_2, \\sigma_1, \\sigma_2) p(\\nu) p(\\mu_1) p(\\mu_2) p(\\sigma_1) p(\\sigma_2) I(|\\mu_2-\\mu_1| \\lt 10)$$\n",
    "\n",
    "We call such log-probability terms **factor potentials** (Jordan 2004).\n",
    "\n",
    "A potential can be created via the `Potential` function, in a way very similar to `Deterministic`'s named interface:\n",
    "\n",
    "```python\n",
    "with disaster_model:\n",
    "    \n",
    "    diff_constraint = pm.Potential('diff_constraint', pm.math.switch(pm.math.abs(treat_mean-placebo_mean)>10, -np.inf, 0))\n",
    "```\n",
    "\n",
    "The function takes just a `name` as its first argument and an expression returning the appropriate log-probability as the second argument.\n",
    "\n",
    "A common use of a factor potential is to represent an observed likelihood, where the **observations are partly a function of model variables**. In the contrived example below, we are representing the error in a linear regression model as a zero-mean normal random variable. Thus, the \"data\" in this scenario is the residual, which is a function both of the data and the regression parameters. \n",
    "\n",
    "If we represent this as a standard likelihood function (a `Distribution` with an `observed` keyword argument), we run into problems. This parameterization would not be compatible with an observed stochastic, because the `err` term would become fixed in the likelihood and not be allowed to change during sampling."
   ]
  },
  {
   "cell_type": "code",
   "execution_count": 27,
   "metadata": {},
   "outputs": [
    {
     "ename": "TypeError",
     "evalue": "Variables that depend on other nodes cannot be used for observed data.The data variable was: Sub.0",
     "output_type": "error",
     "traceback": [
      "\u001b[31m---------------------------------------------------------------------------\u001b[39m",
      "\u001b[31mTypeError\u001b[39m                                 Traceback (most recent call last)",
      "\u001b[36mCell\u001b[39m\u001b[36m \u001b[39m\u001b[32mIn[27]\u001b[39m\u001b[32m, line 14\u001b[39m\n\u001b[32m     10\u001b[39m mu = pm.Normal(\u001b[33m'\u001b[39m\u001b[33mmu\u001b[39m\u001b[33m'\u001b[39m, \u001b[32m0\u001b[39m, sigma=\u001b[32m10\u001b[39m)\n\u001b[32m     12\u001b[39m err = y_vals - (mu + beta*x_vals)\n\u001b[32m---> \u001b[39m\u001b[32m14\u001b[39m like = \u001b[43mpm\u001b[49m\u001b[43m.\u001b[49m\u001b[43mNormal\u001b[49m\u001b[43m(\u001b[49m\u001b[33;43m'\u001b[39;49m\u001b[33;43mlike\u001b[39;49m\u001b[33;43m'\u001b[39;49m\u001b[43m,\u001b[49m\u001b[43m \u001b[49m\u001b[32;43m0\u001b[39;49m\u001b[43m,\u001b[49m\u001b[43m \u001b[49m\u001b[43msigma\u001b[49m\u001b[43m=\u001b[49m\u001b[43msigma\u001b[49m\u001b[43m,\u001b[49m\u001b[43m \u001b[49m\u001b[43mobserved\u001b[49m\u001b[43m=\u001b[49m\u001b[43merr\u001b[49m\u001b[43m)\u001b[49m\n",
      "\u001b[36mFile \u001b[39m\u001b[32m~/labs/dsp-workshop/.pixi/envs/default/lib/python3.12/site-packages/pymc/distributions/distribution.py:507\u001b[39m, in \u001b[36mDistribution.__new__\u001b[39m\u001b[34m(cls, name, rng, dims, initval, observed, total_size, transform, default_transform, *args, **kwargs)\u001b[39m\n\u001b[32m    503\u001b[39m         kwargs[\u001b[33m\"\u001b[39m\u001b[33mshape\u001b[39m\u001b[33m\"\u001b[39m] = \u001b[38;5;28mtuple\u001b[39m(observed.shape)\n\u001b[32m    505\u001b[39m rv_out = \u001b[38;5;28mcls\u001b[39m.dist(*args, **kwargs)\n\u001b[32m--> \u001b[39m\u001b[32m507\u001b[39m rv_out = \u001b[43mmodel\u001b[49m\u001b[43m.\u001b[49m\u001b[43mregister_rv\u001b[49m\u001b[43m(\u001b[49m\n\u001b[32m    508\u001b[39m \u001b[43m    \u001b[49m\u001b[43mrv_out\u001b[49m\u001b[43m,\u001b[49m\n\u001b[32m    509\u001b[39m \u001b[43m    \u001b[49m\u001b[43mname\u001b[49m\u001b[43m,\u001b[49m\n\u001b[32m    510\u001b[39m \u001b[43m    \u001b[49m\u001b[43mobserved\u001b[49m\u001b[43m=\u001b[49m\u001b[43mobserved\u001b[49m\u001b[43m,\u001b[49m\n\u001b[32m    511\u001b[39m \u001b[43m    \u001b[49m\u001b[43mtotal_size\u001b[49m\u001b[43m=\u001b[49m\u001b[43mtotal_size\u001b[49m\u001b[43m,\u001b[49m\n\u001b[32m    512\u001b[39m \u001b[43m    \u001b[49m\u001b[43mdims\u001b[49m\u001b[43m=\u001b[49m\u001b[43mdims\u001b[49m\u001b[43m,\u001b[49m\n\u001b[32m    513\u001b[39m \u001b[43m    \u001b[49m\u001b[43mtransform\u001b[49m\u001b[43m=\u001b[49m\u001b[43mtransform\u001b[49m\u001b[43m,\u001b[49m\n\u001b[32m    514\u001b[39m \u001b[43m    \u001b[49m\u001b[43mdefault_transform\u001b[49m\u001b[43m=\u001b[49m\u001b[43mdefault_transform\u001b[49m\u001b[43m,\u001b[49m\n\u001b[32m    515\u001b[39m \u001b[43m    \u001b[49m\u001b[43minitval\u001b[49m\u001b[43m=\u001b[49m\u001b[43minitval\u001b[49m\u001b[43m,\u001b[49m\n\u001b[32m    516\u001b[39m \u001b[43m\u001b[49m\u001b[43m)\u001b[49m\n\u001b[32m    518\u001b[39m \u001b[38;5;66;03m# add in pretty-printing support\u001b[39;00m\n\u001b[32m    519\u001b[39m rv_out.str_repr = types.MethodType(str_for_dist, rv_out)\n",
      "\u001b[36mFile \u001b[39m\u001b[32m~/labs/dsp-workshop/.pixi/envs/default/lib/python3.12/site-packages/pymc/model/core.py:1254\u001b[39m, in \u001b[36mModel.register_rv\u001b[39m\u001b[34m(self, rv_var, name, observed, total_size, dims, default_transform, transform, initval)\u001b[39m\n\u001b[32m   1250\u001b[39m     warnings.warn(\n\u001b[32m   1251\u001b[39m         \u001b[33mf\u001b[39m\u001b[33m\"\u001b[39m\u001b[33mtotal_size not provided for observed variable `\u001b[39m\u001b[38;5;132;01m{\u001b[39;00mname\u001b[38;5;132;01m}\u001b[39;00m\u001b[33m` that uses pm.Minibatch\u001b[39m\u001b[33m\"\u001b[39m\n\u001b[32m   1252\u001b[39m     )\n\u001b[32m   1253\u001b[39m \u001b[38;5;28;01mif\u001b[39;00m \u001b[38;5;129;01mnot\u001b[39;00m is_valid_observed(observed):\n\u001b[32m-> \u001b[39m\u001b[32m1254\u001b[39m     \u001b[38;5;28;01mraise\u001b[39;00m \u001b[38;5;167;01mTypeError\u001b[39;00m(\n\u001b[32m   1255\u001b[39m         \u001b[33m\"\u001b[39m\u001b[33mVariables that depend on other nodes cannot be used for observed data.\u001b[39m\u001b[33m\"\u001b[39m\n\u001b[32m   1256\u001b[39m         \u001b[33mf\u001b[39m\u001b[33m\"\u001b[39m\u001b[33mThe data variable was: \u001b[39m\u001b[38;5;132;01m{\u001b[39;00mobserved\u001b[38;5;132;01m}\u001b[39;00m\u001b[33m\"\u001b[39m\n\u001b[32m   1257\u001b[39m     )\n\u001b[32m   1259\u001b[39m \u001b[38;5;66;03m# `rv_var` is potentially changed by `make_obs_var`,\u001b[39;00m\n\u001b[32m   1260\u001b[39m \u001b[38;5;66;03m# for example into a new graph for imputation of missing data.\u001b[39;00m\n\u001b[32m   1261\u001b[39m rv_var = \u001b[38;5;28mself\u001b[39m.make_obs_var(\n\u001b[32m   1262\u001b[39m     rv_var, observed, dims, default_transform, transform, total_size\n\u001b[32m   1263\u001b[39m )\n",
      "\u001b[31mTypeError\u001b[39m: Variables that depend on other nodes cannot be used for observed data.The data variable was: Sub.0"
     ]
    }
   ],
   "source": [
    "# TypeError expected\n",
    "\n",
    "y_vals = np.array([15, 10, 16, 11, 9, 11, 10, 18, 11])\n",
    "x_vals = np.array([1, 2, 4, 5, 6, 8, 19, 18, 12])\n",
    "\n",
    "with pm.Model() as regression:\n",
    "\n",
    "    sigma = pm.HalfCauchy('sigma', 5)\n",
    "    beta = pm.Normal('beta', 0, sigma=2)\n",
    "    mu = pm.Normal('mu', 0, sigma=10)\n",
    "\n",
    "    err = y_vals - (mu + beta*x_vals)\n",
    "                  \n",
    "    like = pm.Normal('like', 0, sigma=sigma, observed=err)"
   ]
  },
  {
   "cell_type": "markdown",
   "metadata": {},
   "source": [
    "Instead, we can re-express the likelihood as a factor potential, which is a function of the data and the model parameters."
   ]
  },
  {
   "cell_type": "code",
   "execution_count": 28,
   "metadata": {},
   "outputs": [],
   "source": [
    "with pm.Model() as regression:\n",
    "\n",
    "    sigma = pm.HalfCauchy('sigma', 5)\n",
    "    beta = pm.Normal('beta', 0, sigma=2)\n",
    "    mu = pm.Normal('mu', 0, sigma=10)\n",
    "\n",
    "    err = y_vals - (mu + beta*x_vals)\n",
    "                  \n",
    "    like = pm.Potential('like', \n",
    "        pm.logp(\n",
    "            pm.Normal.dist(0, sigma=sigma), \n",
    "            err\n",
    "        )\n",
    "    )"
   ]
  },
  {
   "cell_type": "code",
   "execution_count": 29,
   "metadata": {},
   "outputs": [
    {
     "data": {
      "image/svg+xml": [
       "<?xml version=\"1.0\" encoding=\"UTF-8\" standalone=\"no\"?>\n",
       "<!DOCTYPE svg PUBLIC \"-//W3C//DTD SVG 1.1//EN\"\n",
       " \"http://www.w3.org/Graphics/SVG/1.1/DTD/svg11.dtd\">\n",
       "<!-- Generated by graphviz version 12.2.1 (20250203.1708)\n",
       " -->\n",
       "<!-- Pages: 1 -->\n",
       "<svg width=\"322pt\" height=\"254pt\"\n",
       " viewBox=\"0.00 0.00 322.46 253.83\" xmlns=\"http://www.w3.org/2000/svg\" xmlns:xlink=\"http://www.w3.org/1999/xlink\">\n",
       "<g id=\"graph0\" class=\"graph\" transform=\"scale(1 1) rotate(0) translate(4 249.83)\">\n",
       "<polygon fill=\"white\" stroke=\"none\" points=\"-4,4 -4,-249.83 318.46,-249.83 318.46,4 -4,4\"/>\n",
       "<g id=\"clust1\" class=\"cluster\">\n",
       "<title>cluster9</title>\n",
       "<path fill=\"none\" stroke=\"black\" d=\"M128.45,-8C128.45,-8 218.45,-8 218.45,-8 224.45,-8 230.45,-14 230.45,-20 230.45,-20 230.45,-124.52 230.45,-124.52 230.45,-130.52 224.45,-136.52 218.45,-136.52 218.45,-136.52 128.45,-136.52 128.45,-136.52 122.45,-136.52 116.45,-130.52 116.45,-124.52 116.45,-124.52 116.45,-20 116.45,-20 116.45,-14 122.45,-8 128.45,-8\"/>\n",
       "<text text-anchor=\"middle\" x=\"219.08\" y=\"-15.2\" font-family=\"Times,serif\" font-size=\"14.00\">9</text>\n",
       "</g>\n",
       "<!-- sigma -->\n",
       "<g id=\"node1\" class=\"node\">\n",
       "<title>sigma</title>\n",
       "<ellipse fill=\"none\" stroke=\"black\" cx=\"57.45\" cy=\"-205.18\" rx=\"57.45\" ry=\"40.66\"/>\n",
       "<text text-anchor=\"middle\" x=\"57.45\" y=\"-216.63\" font-family=\"Times,serif\" font-size=\"14.00\">sigma</text>\n",
       "<text text-anchor=\"middle\" x=\"57.45\" y=\"-200.13\" font-family=\"Times,serif\" font-size=\"14.00\">~</text>\n",
       "<text text-anchor=\"middle\" x=\"57.45\" y=\"-183.63\" font-family=\"Times,serif\" font-size=\"14.00\">HalfCauchy</text>\n",
       "</g>\n",
       "<!-- like -->\n",
       "<g id=\"node4\" class=\"node\">\n",
       "<title>like</title>\n",
       "<polygon fill=\"lightgrey\" stroke=\"black\" points=\"222.44,-66.28 222.44,-102.74 193.74,-128.52 153.16,-128.52 124.47,-102.74 124.47,-66.28 153.16,-40.5 193.74,-40.5 222.44,-66.28\"/>\n",
       "<text text-anchor=\"middle\" x=\"173.45\" y=\"-95.96\" font-family=\"Times,serif\" font-size=\"14.00\">like</text>\n",
       "<text text-anchor=\"middle\" x=\"173.45\" y=\"-79.46\" font-family=\"Times,serif\" font-size=\"14.00\">~</text>\n",
       "<text text-anchor=\"middle\" x=\"173.45\" y=\"-62.96\" font-family=\"Times,serif\" font-size=\"14.00\">Potential</text>\n",
       "</g>\n",
       "<!-- sigma&#45;&gt;like -->\n",
       "<g id=\"edge1\" class=\"edge\">\n",
       "<title>sigma&#45;&gt;like</title>\n",
       "<path fill=\"none\" stroke=\"black\" d=\"M89.76,-171.12C103.34,-157.23 119.27,-140.94 133.56,-126.31\"/>\n",
       "<polygon fill=\"black\" stroke=\"black\" points=\"135.77,-129.07 140.26,-119.47 130.76,-124.17 135.77,-129.07\"/>\n",
       "</g>\n",
       "<!-- beta -->\n",
       "<g id=\"node2\" class=\"node\">\n",
       "<title>beta</title>\n",
       "<ellipse fill=\"none\" stroke=\"black\" cx=\"173.45\" cy=\"-205.18\" rx=\"41.01\" ry=\"40.66\"/>\n",
       "<text text-anchor=\"middle\" x=\"173.45\" y=\"-216.63\" font-family=\"Times,serif\" font-size=\"14.00\">beta</text>\n",
       "<text text-anchor=\"middle\" x=\"173.45\" y=\"-200.13\" font-family=\"Times,serif\" font-size=\"14.00\">~</text>\n",
       "<text text-anchor=\"middle\" x=\"173.45\" y=\"-183.63\" font-family=\"Times,serif\" font-size=\"14.00\">Normal</text>\n",
       "</g>\n",
       "<!-- beta&#45;&gt;like -->\n",
       "<g id=\"edge2\" class=\"edge\">\n",
       "<title>beta&#45;&gt;like</title>\n",
       "<path fill=\"none\" stroke=\"black\" d=\"M173.45,-164.33C173.45,-156.55 173.45,-148.27 173.45,-140.11\"/>\n",
       "<polygon fill=\"black\" stroke=\"black\" points=\"176.95,-140.22 173.45,-130.22 169.95,-140.22 176.95,-140.22\"/>\n",
       "</g>\n",
       "<!-- mu -->\n",
       "<g id=\"node3\" class=\"node\">\n",
       "<title>mu</title>\n",
       "<ellipse fill=\"none\" stroke=\"black\" cx=\"273.45\" cy=\"-205.18\" rx=\"41.01\" ry=\"40.66\"/>\n",
       "<text text-anchor=\"middle\" x=\"273.45\" y=\"-216.63\" font-family=\"Times,serif\" font-size=\"14.00\">mu</text>\n",
       "<text text-anchor=\"middle\" x=\"273.45\" y=\"-200.13\" font-family=\"Times,serif\" font-size=\"14.00\">~</text>\n",
       "<text text-anchor=\"middle\" x=\"273.45\" y=\"-183.63\" font-family=\"Times,serif\" font-size=\"14.00\">Normal</text>\n",
       "</g>\n",
       "<!-- mu&#45;&gt;like -->\n",
       "<g id=\"edge3\" class=\"edge\">\n",
       "<title>mu&#45;&gt;like</title>\n",
       "<path fill=\"none\" stroke=\"black\" d=\"M247.44,-173.31C236.02,-159.76 222.42,-143.62 210.01,-128.89\"/>\n",
       "<polygon fill=\"black\" stroke=\"black\" points=\"212.96,-126.96 203.84,-121.57 207.61,-131.47 212.96,-126.96\"/>\n",
       "</g>\n",
       "</g>\n",
       "</svg>\n"
      ],
      "text/plain": [
       "<graphviz.graphs.Digraph at 0x7fc72acaf140>"
      ]
     },
     "execution_count": 29,
     "metadata": {},
     "output_type": "execute_result"
    }
   ],
   "source": [
    "from pymc.model_graph import model_to_graphviz\n",
    "\n",
    "model_to_graphviz(regression)"
   ]
  },
  {
   "cell_type": "markdown",
   "metadata": {},
   "source": [
    "## Parameter Transformation\n",
    "\n",
    "To support efficient sampling by PyMC's MCMC algorithms, any continuous variables that are constrained to a sub-interval of the real line are automatically transformed so that their support is unconstrained. This frees sampling algorithms from having to deal with boundary constraints.\n",
    "\n",
    "For example, if we look at the variables we have created in a model:"
   ]
  },
  {
   "cell_type": "code",
   "execution_count": 30,
   "metadata": {},
   "outputs": [
    {
     "name": "stdout",
     "output_type": "stream",
     "text": [
      "[sigma_log__, tau_log__, lam_log__, c2_log__]\n"
     ]
    }
   ],
   "source": [
    "with pm.Model() as model:\n",
    "    sigma = pm.HalfNormal('sigma', 25)\n",
    "    tau = pm.HalfStudentT('tau', 2, 10)\n",
    "    lam = pm.HalfStudentT('lam', 5, 1)\n",
    "    c2 = pm.InverseGamma('c2', 1, 0.1)\n",
    "    print(model.value_vars)"
   ]
  },
  {
   "cell_type": "markdown",
   "metadata": {},
   "source": [
    "The model's `value_vars` attribute stores the values of each random variable actually used by the model's log-likelihood.\n",
    "\n",
    "As the name suggests, the variables `sigma`, `tau`, `lam`, and `c2` have been log-transformed, and this is the space over which posterior sampling takes place. When a sample is drawn, the value of the transformed variable is simply back-transformed to recover the original variable.\n",
    "\n",
    "By default, auto-transformed variables are ignored when summarizing and plotting model output, since they are not generally of interest to the user."
   ]
  },
  {
   "cell_type": "markdown",
   "metadata": {},
   "source": [
    "## Building Models in PyMC\n",
    "\n",
    "Now that we understand the basic building blocks of PyMC models, let's see how to combine them to build a complete model. We'll use a real-world example of educational outcomes for hearing-impaired children."
   ]
  },
  {
   "cell_type": "markdown",
   "metadata": {},
   "source": [
    "### Educational Outcomes for Hearing-impaired Children\n",
    "\n",
    "To demonstrate the PyMC API in depth, we will use a dataset of educational outcomes for children with hearing impairment. Here, we are interested in determining factors that are associated with better or poorer learning outcomes. \n",
    "\n",
    "This anonomized dataset is taken from the Listening and Spoken Language Data Repository (LSL-DR), an international data repository that tracks the demographics and longitudinal outcomes for children who have hearing loss and are enrolled in programs focused on supporting listening and spoken language development. Researchers are interested in discovering factors related to improvements in educational outcomes at these programs.\n",
    "\n",
    "For each learner, the dataset includes these variables, which we will use as predictors: \n",
    "\n",
    "* gender (`male`)\n",
    "* number of siblings in the household (`siblings`)\n",
    "* index of family involvement (`family_inv`)\n",
    "* whether the primary household language is not English (`non_english`)\n",
    "* presence of a previous disability (`prev_disab`)\n",
    "* non-white race (`non_white`)\n",
    "* age at the time of testing (in months, `age_test`)\n",
    "* whether hearing loss is not severe (`non_severe_hl`)\n",
    "* whether the subject's mother obtained a high school diploma or better (`mother_hs`)\n",
    "* whether the hearing impairment was identified by 3 months of age (`early_ident`).\n",
    "\n",
    "The outcome variable we'll model is a standardized test score in one of several learning domains."
   ]
  },
  {
   "cell_type": "code",
   "execution_count": 31,
   "metadata": {},
   "outputs": [
    {
     "data": {
      "text/html": [
       "<div><style>\n",
       ".dataframe > thead > tr,\n",
       ".dataframe > tbody > tr {\n",
       "  text-align: right;\n",
       "  white-space: pre-wrap;\n",
       "}\n",
       "</style>\n",
       "<small>shape: (5, 11)</small><table border=\"1\" class=\"dataframe\"><thead><tr><th>score</th><th>male</th><th>siblings</th><th>family_inv</th><th>non_english</th><th>prev_disab</th><th>age_test</th><th>non_severe_hl</th><th>mother_hs</th><th>early_ident</th><th>non_white</th></tr><tr><td>i64</td><td>i64</td><td>f64</td><td>f64</td><td>bool</td><td>f64</td><td>i64</td><td>f64</td><td>f64</td><td>bool</td><td>bool</td></tr></thead><tbody><tr><td>40</td><td>0</td><td>2.0</td><td>2.0</td><td>false</td><td>null</td><td>55</td><td>1.0</td><td>null</td><td>false</td><td>false</td></tr><tr><td>31</td><td>1</td><td>0.0</td><td>null</td><td>false</td><td>0.0</td><td>53</td><td>0.0</td><td>0.0</td><td>false</td><td>false</td></tr><tr><td>83</td><td>1</td><td>1.0</td><td>1.0</td><td>true</td><td>0.0</td><td>52</td><td>1.0</td><td>null</td><td>false</td><td>true</td></tr><tr><td>75</td><td>0</td><td>3.0</td><td>null</td><td>false</td><td>0.0</td><td>55</td><td>0.0</td><td>1.0</td><td>false</td><td>false</td></tr><tr><td>62</td><td>0</td><td>0.0</td><td>4.0</td><td>false</td><td>1.0</td><td>50</td><td>0.0</td><td>null</td><td>false</td><td>false</td></tr></tbody></table></div>"
      ],
      "text/plain": [
       "shape: (5, 11)\n",
       "┌───────┬──────┬──────────┬────────────┬───┬───────────────┬───────────┬─────────────┬───────────┐\n",
       "│ score ┆ male ┆ siblings ┆ family_inv ┆ … ┆ non_severe_hl ┆ mother_hs ┆ early_ident ┆ non_white │\n",
       "│ ---   ┆ ---  ┆ ---      ┆ ---        ┆   ┆ ---           ┆ ---       ┆ ---         ┆ ---       │\n",
       "│ i64   ┆ i64  ┆ f64      ┆ f64        ┆   ┆ f64           ┆ f64       ┆ bool        ┆ bool      │\n",
       "╞═══════╪══════╪══════════╪════════════╪═══╪═══════════════╪═══════════╪═════════════╪═══════════╡\n",
       "│ 40    ┆ 0    ┆ 2.0      ┆ 2.0        ┆ … ┆ 1.0           ┆ null      ┆ false       ┆ false     │\n",
       "│ 31    ┆ 1    ┆ 0.0      ┆ null       ┆ … ┆ 0.0           ┆ 0.0       ┆ false       ┆ false     │\n",
       "│ 83    ┆ 1    ┆ 1.0      ┆ 1.0        ┆ … ┆ 1.0           ┆ null      ┆ false       ┆ true      │\n",
       "│ 75    ┆ 0    ┆ 3.0      ┆ null       ┆ … ┆ 0.0           ┆ 1.0       ┆ false       ┆ false     │\n",
       "│ 62    ┆ 0    ┆ 0.0      ┆ 4.0        ┆ … ┆ 0.0           ┆ null      ┆ false       ┆ false     │\n",
       "└───────┴──────┴──────────┴────────────┴───┴───────────────┴───────────┴─────────────┴───────────┘"
      ]
     },
     "execution_count": 31,
     "metadata": {},
     "output_type": "execute_result"
    }
   ],
   "source": [
    "import polars as pl\n",
    "\n",
    "test_scores = pl.read_csv(pm.get_data(\"test_scores.csv\")).drop(\"\")\n",
    "test_scores.head()"
   ]
  },
  {
   "cell_type": "code",
   "execution_count": 32,
   "metadata": {},
   "outputs": [
    {
     "data": {
      "text/html": [
       "\n",
       "<style>\n",
       "  #altair-viz-a2d555b82ac541f596d36fef53956a03.vega-embed {\n",
       "    width: 100%;\n",
       "    display: flex;\n",
       "  }\n",
       "\n",
       "  #altair-viz-a2d555b82ac541f596d36fef53956a03.vega-embed details,\n",
       "  #altair-viz-a2d555b82ac541f596d36fef53956a03.vega-embed details summary {\n",
       "    position: relative;\n",
       "  }\n",
       "</style>\n",
       "<div id=\"altair-viz-a2d555b82ac541f596d36fef53956a03\"></div>\n",
       "<script type=\"text/javascript\">\n",
       "  var VEGA_DEBUG = (typeof VEGA_DEBUG == \"undefined\") ? {} : VEGA_DEBUG;\n",
       "  (function(spec, embedOpt){\n",
       "    let outputDiv = document.currentScript.previousElementSibling;\n",
       "    if (outputDiv.id !== \"altair-viz-a2d555b82ac541f596d36fef53956a03\") {\n",
       "      outputDiv = document.getElementById(\"altair-viz-a2d555b82ac541f596d36fef53956a03\");\n",
       "    }\n",
       "\n",
       "    const paths = {\n",
       "      \"vega\": \"https://cdn.jsdelivr.net/npm/vega@5?noext\",\n",
       "      \"vega-lib\": \"https://cdn.jsdelivr.net/npm/vega-lib?noext\",\n",
       "      \"vega-lite\": \"https://cdn.jsdelivr.net/npm/vega-lite@5.20.1?noext\",\n",
       "      \"vega-embed\": \"https://cdn.jsdelivr.net/npm/vega-embed@6?noext\",\n",
       "    };\n",
       "\n",
       "    function maybeLoadScript(lib, version) {\n",
       "      var key = `${lib.replace(\"-\", \"\")}_version`;\n",
       "      return (VEGA_DEBUG[key] == version) ?\n",
       "        Promise.resolve(paths[lib]) :\n",
       "        new Promise(function(resolve, reject) {\n",
       "          var s = document.createElement('script');\n",
       "          document.getElementsByTagName(\"head\")[0].appendChild(s);\n",
       "          s.async = true;\n",
       "          s.onload = () => {\n",
       "            VEGA_DEBUG[key] = version;\n",
       "            return resolve(paths[lib]);\n",
       "          };\n",
       "          s.onerror = () => reject(`Error loading script: ${paths[lib]}`);\n",
       "          s.src = paths[lib];\n",
       "        });\n",
       "    }\n",
       "\n",
       "    function showError(err) {\n",
       "      outputDiv.innerHTML = `<div class=\"error\" style=\"color:red;\">${err}</div>`;\n",
       "      throw err;\n",
       "    }\n",
       "\n",
       "    function displayChart(vegaEmbed) {\n",
       "      vegaEmbed(outputDiv, spec, embedOpt)\n",
       "        .catch(err => showError(`Javascript Error: ${err.message}<br>This usually means there's a typo in your chart specification. See the javascript console for the full traceback.`));\n",
       "    }\n",
       "\n",
       "    if(typeof define === \"function\" && define.amd) {\n",
       "      requirejs.config({paths});\n",
       "      let deps = [\"vega-embed\"];\n",
       "      require(deps, displayChart, err => showError(`Error loading script: ${err.message}`));\n",
       "    } else {\n",
       "      maybeLoadScript(\"vega\", \"5\")\n",
       "        .then(() => maybeLoadScript(\"vega-lite\", \"5.20.1\"))\n",
       "        .then(() => maybeLoadScript(\"vega-embed\", \"6\"))\n",
       "        .catch(showError)\n",
       "        .then(() => displayChart(vegaEmbed));\n",
       "    }\n",
       "  })({\"config\": {\"view\": {\"continuousWidth\": 300, \"continuousHeight\": 300}}, \"data\": {\"name\": \"data-f3777a233811e40c63c518c87c05c769\"}, \"mark\": {\"type\": \"bar\", \"tooltip\": true}, \"encoding\": {\"x\": {\"bin\": true, \"field\": \"score\", \"type\": \"quantitative\"}, \"y\": {\"aggregate\": \"count\", \"type\": \"quantitative\"}}, \"params\": [{\"name\": \"param_1\", \"select\": {\"type\": \"interval\", \"encodings\": [\"x\", \"y\"]}, \"bind\": \"scales\"}], \"$schema\": \"https://vega.github.io/schema/vega-lite/v5.20.1.json\", \"datasets\": {\"data-f3777a233811e40c63c518c87c05c769\": [{\"score\": 40}, {\"score\": 31}, {\"score\": 83}, {\"score\": 75}, {\"score\": 62}, {\"score\": 85}, {\"score\": 39}, {\"score\": 98}, {\"score\": 64}, {\"score\": 109}, {\"score\": 111}, {\"score\": 91}, {\"score\": 68}, {\"score\": 87}, {\"score\": 73}, {\"score\": 65}, {\"score\": 71}, {\"score\": 82}, {\"score\": 97}, {\"score\": 95}, {\"score\": 98}, {\"score\": 96}, {\"score\": 79}, {\"score\": 55}, {\"score\": 78}, {\"score\": 115}, {\"score\": 55}, {\"score\": 70}, {\"score\": 62}, {\"score\": 128}, {\"score\": 113}, {\"score\": 138}, {\"score\": 68}, {\"score\": 133}, {\"score\": 60}, {\"score\": 84}, {\"score\": 93}, {\"score\": 58}, {\"score\": 55}, {\"score\": 43}, {\"score\": 20}, {\"score\": 75}, {\"score\": 55}, {\"score\": 61}, {\"score\": 84}, {\"score\": 67}, {\"score\": 89}, {\"score\": 76}, {\"score\": 98}, {\"score\": 93}, {\"score\": 69}, {\"score\": 0}, {\"score\": 83}, {\"score\": 78}, {\"score\": 94}, {\"score\": 61}, {\"score\": 116}, {\"score\": 93}, {\"score\": 88}, {\"score\": 99}, {\"score\": 98}, {\"score\": 77}, {\"score\": 66}, {\"score\": 98}, {\"score\": 107}, {\"score\": 110}, {\"score\": 94}, {\"score\": 97}, {\"score\": 93}, {\"score\": 98}, {\"score\": 100}, {\"score\": 95}, {\"score\": 71}, {\"score\": 85}, {\"score\": 77}, {\"score\": 113}, {\"score\": 94}, {\"score\": 94}, {\"score\": 116}, {\"score\": 28}, {\"score\": 92}, {\"score\": 28}, {\"score\": 144}, {\"score\": 20}, {\"score\": 21}, {\"score\": 96}, {\"score\": 55}, {\"score\": 61}, {\"score\": 67}, {\"score\": 62}, {\"score\": 94}, {\"score\": 54}, {\"score\": 80}, {\"score\": 20}, {\"score\": 99}, {\"score\": 128}, {\"score\": 93}, {\"score\": 97}, {\"score\": 93}, {\"score\": 55}, {\"score\": 55}, {\"score\": 63}, {\"score\": 111}, {\"score\": 113}, {\"score\": 131}, {\"score\": 109}, {\"score\": 117}, {\"score\": 89}, {\"score\": 69}, {\"score\": 62}, {\"score\": 74}, {\"score\": 55}, {\"score\": 96}, {\"score\": 96}, {\"score\": 70}, {\"score\": 55}, {\"score\": 84}, {\"score\": 55}, {\"score\": 70}, {\"score\": 91}, {\"score\": 91}, {\"score\": 68}, {\"score\": 97}, {\"score\": 106}, {\"score\": 106}, {\"score\": 126}, {\"score\": 85}, {\"score\": 90}, {\"score\": 103}, {\"score\": 96}, {\"score\": 60}, {\"score\": 69}, {\"score\": 86}, {\"score\": 90}, {\"score\": 55}, {\"score\": 121}, {\"score\": 117}, {\"score\": 88}, {\"score\": 108}, {\"score\": 103}, {\"score\": 87}, {\"score\": 55}, {\"score\": 107}, {\"score\": 95}, {\"score\": 121}, {\"score\": 99}, {\"score\": 89}, {\"score\": 89}, {\"score\": 78}, {\"score\": 90}, {\"score\": 94}, {\"score\": 87}, {\"score\": 82}, {\"score\": 71}, {\"score\": 56}, {\"score\": 91}, {\"score\": 55}, {\"score\": 94}, {\"score\": 68}, {\"score\": 107}, {\"score\": 77}, {\"score\": 118}, {\"score\": 138}, {\"score\": 103}, {\"score\": 105}, {\"score\": 119}, {\"score\": 62}, {\"score\": 78}, {\"score\": 97}, {\"score\": 89}, {\"score\": 97}, {\"score\": 100}, {\"score\": 70}, {\"score\": 56}, {\"score\": 81}, {\"score\": 86}, {\"score\": 103}, {\"score\": 85}, {\"score\": 124}, {\"score\": 59}, {\"score\": 83}, {\"score\": 91}, {\"score\": 96}, {\"score\": 133}, {\"score\": 60}, {\"score\": 57}, {\"score\": 108}, {\"score\": 111}, {\"score\": 83}, {\"score\": 80}, {\"score\": 55}, {\"score\": 107}, {\"score\": 58}, {\"score\": 81}, {\"score\": 58}, {\"score\": 58}, {\"score\": 124}, {\"score\": 72}, {\"score\": 133}, {\"score\": 80}, {\"score\": 92}, {\"score\": 80}, {\"score\": 68}, {\"score\": 104}, {\"score\": 71}, {\"score\": 118}, {\"score\": 99}]}}, {\"mode\": \"vega-lite\"});\n",
       "</script>"
      ],
      "text/plain": [
       "alt.Chart(...)"
      ]
     },
     "execution_count": 32,
     "metadata": {},
     "output_type": "execute_result"
    }
   ],
   "source": [
    "test_scores[\"score\"].plot.hist()"
   ]
  },
  {
   "cell_type": "code",
   "execution_count": 33,
   "metadata": {},
   "outputs": [],
   "source": [
    "# Dropping missing values is not generally good practice, but we do so here for simplicity\n",
    "test_scores = test_scores.drop_nulls().cast(pl.Float32)\n",
    "y = test_scores[\"score\"]\n",
    "# Standardize the features\n",
    "X = test_scores.drop(\"score\").select((pl.all()-pl.all().mean()) / pl.all().std())\n",
    "\n",
    "N, D = X.shape"
   ]
  },
  {
   "cell_type": "markdown",
   "metadata": {},
   "source": [
    "### The Regression Model\n",
    "\n",
    "This is a **multivariate regression** model, which takes the form:\n",
    "\n",
    "$$\\begin{aligned} \n",
    "\\mu &= \\beta_0 + X \\beta \\\\\n",
    "Y  &\\sim \\mathcal{N}(\\mu, \\sigma^2) \\\\\n",
    "\\end{aligned}$$\n",
    "\n",
    "where $X$ is a matrix of predictors and $\\beta$ a vector of coefficients.\n",
    "\n",
    "Here's what that looks like in a PyMC model."
   ]
  },
  {
   "cell_type": "code",
   "execution_count": 34,
   "metadata": {},
   "outputs": [],
   "source": [
    "with pm.Model(coords={\"predictors\": X.columns}) as multiple_regression:\n",
    "    \n",
    "    # intercept centered at the population mean\n",
    "    beta0 = pm.Normal(\"beta0\", 100, 25)\n",
    "    \n",
    "    # priors for the coefficients\n",
    "    beta = pm.Normal(\"beta\", 0, 25, dims='predictors')\n",
    "    \n",
    "    # prior on error SD\n",
    "    sigma = pm.HalfNormal(\"sigma\", 25)\n",
    "    \n",
    "    # likelihood of the data given the betas and sigma\n",
    "    scores = pm.Normal(\"scores\", beta0 + X.to_numpy() @ beta, sigma, observed=y.to_numpy())"
   ]
  },
  {
   "cell_type": "markdown",
   "metadata": {},
   "source": [
    "The first line takes advantage of **named dimensions** by passing the input variable names into the model as coordinates called \"predictors\". This will allow us to pass this vector of names as a replacement for the `shape` integer argument in the vector-valued parameters. The model will then associate the appropriate name with each latent parameter that it is estimating. This is a little more work to set up, but will pay dividends later when we are working with our model output.\n",
    "\n",
    "The last line implements the regression model, using `to_numpy` to convert Pandas structures to NumPy arrays, which work with PyTensor.\n",
    "\n",
    "Here's the graph representation of the model."
   ]
  },
  {
   "cell_type": "code",
   "execution_count": 35,
   "metadata": {},
   "outputs": [
    {
     "data": {
      "image/svg+xml": [
       "<?xml version=\"1.0\" encoding=\"UTF-8\" standalone=\"no\"?>\n",
       "<!DOCTYPE svg PUBLIC \"-//W3C//DTD SVG 1.1//EN\"\n",
       " \"http://www.w3.org/Graphics/SVG/1.1/DTD/svg11.dtd\">\n",
       "<!-- Generated by graphviz version 12.2.1 (20250203.1708)\n",
       " -->\n",
       "<!-- Pages: 1 -->\n",
       "<svg width=\"340pt\" height=\"276pt\"\n",
       " viewBox=\"0.00 0.00 340.01 275.63\" xmlns=\"http://www.w3.org/2000/svg\" xmlns:xlink=\"http://www.w3.org/1999/xlink\">\n",
       "<g id=\"graph0\" class=\"graph\" transform=\"scale(1 1) rotate(0) translate(4 271.63)\">\n",
       "<polygon fill=\"white\" stroke=\"none\" points=\"-4,4 -4,-271.63 336.01,-271.63 336.01,4 -4,4\"/>\n",
       "<g id=\"clust1\" class=\"cluster\">\n",
       "<title>clusterpredictors (10)</title>\n",
       "<path fill=\"none\" stroke=\"black\" d=\"M238.01,-137.82C238.01,-137.82 312.01,-137.82 312.01,-137.82 318.01,-137.82 324.01,-143.82 324.01,-149.82 324.01,-149.82 324.01,-247.63 324.01,-247.63 324.01,-253.63 318.01,-259.63 312.01,-259.63 312.01,-259.63 238.01,-259.63 238.01,-259.63 232.01,-259.63 226.01,-253.63 226.01,-247.63 226.01,-247.63 226.01,-149.82 226.01,-149.82 226.01,-143.82 232.01,-137.82 238.01,-137.82\"/>\n",
       "<text text-anchor=\"middle\" x=\"275.89\" y=\"-145.02\" font-family=\"Times,serif\" font-size=\"14.00\">predictors (10)</text>\n",
       "</g>\n",
       "<g id=\"clust2\" class=\"cluster\">\n",
       "<title>cluster101</title>\n",
       "<path fill=\"none\" stroke=\"black\" d=\"M121.01,-8C121.01,-8 195.01,-8 195.01,-8 201.01,-8 207.01,-14 207.01,-20 207.01,-20 207.01,-117.82 207.01,-117.82 207.01,-123.82 201.01,-129.82 195.01,-129.82 195.01,-129.82 121.01,-129.82 121.01,-129.82 115.01,-129.82 109.01,-123.82 109.01,-117.82 109.01,-117.82 109.01,-20 109.01,-20 109.01,-14 115.01,-8 121.01,-8\"/>\n",
       "<text text-anchor=\"middle\" x=\"188.89\" y=\"-15.2\" font-family=\"Times,serif\" font-size=\"14.00\">101</text>\n",
       "</g>\n",
       "<!-- beta0 -->\n",
       "<g id=\"node1\" class=\"node\">\n",
       "<title>beta0</title>\n",
       "<ellipse fill=\"none\" stroke=\"black\" cx=\"41.01\" cy=\"-210.98\" rx=\"41.01\" ry=\"40.66\"/>\n",
       "<text text-anchor=\"middle\" x=\"41.01\" y=\"-222.43\" font-family=\"Times,serif\" font-size=\"14.00\">beta0</text>\n",
       "<text text-anchor=\"middle\" x=\"41.01\" y=\"-205.93\" font-family=\"Times,serif\" font-size=\"14.00\">~</text>\n",
       "<text text-anchor=\"middle\" x=\"41.01\" y=\"-189.43\" font-family=\"Times,serif\" font-size=\"14.00\">Normal</text>\n",
       "</g>\n",
       "<!-- scores -->\n",
       "<g id=\"node4\" class=\"node\">\n",
       "<title>scores</title>\n",
       "<ellipse fill=\"lightgrey\" stroke=\"black\" cx=\"158.01\" cy=\"-81.16\" rx=\"41.01\" ry=\"40.66\"/>\n",
       "<text text-anchor=\"middle\" x=\"158.01\" y=\"-92.61\" font-family=\"Times,serif\" font-size=\"14.00\">scores</text>\n",
       "<text text-anchor=\"middle\" x=\"158.01\" y=\"-76.11\" font-family=\"Times,serif\" font-size=\"14.00\">~</text>\n",
       "<text text-anchor=\"middle\" x=\"158.01\" y=\"-59.61\" font-family=\"Times,serif\" font-size=\"14.00\">Normal</text>\n",
       "</g>\n",
       "<!-- beta0&#45;&gt;scores -->\n",
       "<g id=\"edge1\" class=\"edge\">\n",
       "<title>beta0&#45;&gt;scores</title>\n",
       "<path fill=\"none\" stroke=\"black\" d=\"M61.88,-175.86C70.24,-163.33 80.41,-149.39 91.01,-137.82 98.75,-129.37 107.78,-121.05 116.65,-113.52\"/>\n",
       "<polygon fill=\"black\" stroke=\"black\" points=\"118.77,-116.31 124.25,-107.24 114.31,-110.91 118.77,-116.31\"/>\n",
       "</g>\n",
       "<!-- sigma -->\n",
       "<g id=\"node2\" class=\"node\">\n",
       "<title>sigma</title>\n",
       "<ellipse fill=\"none\" stroke=\"black\" cx=\"158.01\" cy=\"-210.98\" rx=\"57.98\" ry=\"40.66\"/>\n",
       "<text text-anchor=\"middle\" x=\"158.01\" y=\"-222.43\" font-family=\"Times,serif\" font-size=\"14.00\">sigma</text>\n",
       "<text text-anchor=\"middle\" x=\"158.01\" y=\"-205.93\" font-family=\"Times,serif\" font-size=\"14.00\">~</text>\n",
       "<text text-anchor=\"middle\" x=\"158.01\" y=\"-189.43\" font-family=\"Times,serif\" font-size=\"14.00\">HalfNormal</text>\n",
       "</g>\n",
       "<!-- sigma&#45;&gt;scores -->\n",
       "<g id=\"edge2\" class=\"edge\">\n",
       "<title>sigma&#45;&gt;scores</title>\n",
       "<path fill=\"none\" stroke=\"black\" d=\"M158.01,-169.88C158.01,-158.34 158.01,-145.6 158.01,-133.48\"/>\n",
       "<polygon fill=\"black\" stroke=\"black\" points=\"161.51,-133.62 158.01,-123.62 154.51,-133.62 161.51,-133.62\"/>\n",
       "</g>\n",
       "<!-- beta -->\n",
       "<g id=\"node3\" class=\"node\">\n",
       "<title>beta</title>\n",
       "<ellipse fill=\"none\" stroke=\"black\" cx=\"275.01\" cy=\"-210.98\" rx=\"41.01\" ry=\"40.66\"/>\n",
       "<text text-anchor=\"middle\" x=\"275.01\" y=\"-222.43\" font-family=\"Times,serif\" font-size=\"14.00\">beta</text>\n",
       "<text text-anchor=\"middle\" x=\"275.01\" y=\"-205.93\" font-family=\"Times,serif\" font-size=\"14.00\">~</text>\n",
       "<text text-anchor=\"middle\" x=\"275.01\" y=\"-189.43\" font-family=\"Times,serif\" font-size=\"14.00\">Normal</text>\n",
       "</g>\n",
       "<!-- beta&#45;&gt;scores -->\n",
       "<g id=\"edge3\" class=\"edge\">\n",
       "<title>beta&#45;&gt;scores</title>\n",
       "<path fill=\"none\" stroke=\"black\" d=\"M254.15,-175.86C245.78,-163.33 235.62,-149.39 225.01,-137.82 217.27,-129.37 208.25,-121.05 199.38,-113.52\"/>\n",
       "<polygon fill=\"black\" stroke=\"black\" points=\"201.71,-110.91 191.77,-107.24 197.25,-116.31 201.71,-110.91\"/>\n",
       "</g>\n",
       "</g>\n",
       "</svg>\n"
      ],
      "text/plain": [
       "<graphviz.graphs.Digraph at 0x7fc70c0ebd70>"
      ]
     },
     "execution_count": 35,
     "metadata": {},
     "output_type": "execute_result"
    }
   ],
   "source": [
    "from pymc.model_graph import model_to_graphviz\n",
    "\n",
    "model_to_graphviz(multiple_regression)"
   ]
  },
  {
   "cell_type": "markdown",
   "metadata": {},
   "source": [
    "In this version of the model, the prior distributions for the coefficients contain an parameter that controls their width.\n",
    "If this parameter is large, it leaves the coefficients uncontrained.\n",
    "If we clamp it down, it keeps all of the coefficients small.\n",
    "But unless we have legitimate prior information about the magnitudes of the coefficients, the choice of these parameters is arbitary.\n",
    "And if we leave them unconstrained, the model is prone to overfitting.\n",
    "This is the problem regularization is meant to solve."
   ]
  },
  {
   "cell_type": "markdown",
   "metadata": {},
   "source": [
    "### Regularization\n",
    "\n",
    "There are several potential predictors in the LSL-DR dataset, but it is difficult *a priori* to determine which ones are relevant for constructing an effective statistical model. There are a number of approaches for conducting variable selection, but a popular automated method is *regularization*, whereby ineffective covariates are shrunk towards zero via regularization (a form of penalization) if they do not contribute to predicting outcomes. \n",
    "\n",
    "In machine learning or classical statistics, regularization methods like the lasso or ridge regression shrink parameters towards zero by applying a penalty to the size of the regression parameters. In a Bayesian context, we apply an appropriate prior distribution to the regression coefficients. One such prior is the *hierarchical regularized horseshoe*, which uses regularization at two levels, a global shrinkage parameter, which determines the overall strength of regulatization across all coefficients, and local shrinkage parameter that determine the strength of regularization for each coefficient individually. \n",
    "The key to making this work is by selecting a long-tailed distribution as the prior for the shrinkage parameters, which allows some to be nonzero, while pushing the rest towards zero.\n",
    "\n",
    "The prior for each regression coefficient $\\beta_i$ looks like this:\n",
    "\n",
    "$$\\beta_i \\sim N\\left(0, \\tau^2 \\cdot \\tilde{\\lambda}_i^2\\right)$$\n",
    "\n",
    "where $\\tau$ is the global shrinkage parameter and $\\tilde{\\lambda}_i$ is the local shrinkage parameter for the $i$th coefficient.\n",
    "Their product is the standard deviation of the prior distribution of $\\beta_i$, so if either of them is small, the product is small.\n",
    "\n",
    "For the prior on $\\tau$ we will use a Half-StudentT distribution, which is heavy-tailed -- the subscript $2$ is the parameter (called degrees of freedom) that controls the tail thickness of the $t$ distribution.\n",
    "\n",
    "$$\n",
    "\\tau \\sim \\textrm{Half-StudentT}_{2} \\left(\\frac{D_0}{D - D_0} \\cdot \\frac{\\sigma}{\\sqrt{N}}\\right).\n",
    "$$\n",
    "\n",
    "The parameter of the StudentT distribution is the variance of the regression errors, which depends on $\\sigma$, which we will estimate from the data, and the sample size $N$.\n",
    "As the sample size increases, the strength of regularization decreases.\n",
    "\n",
    "The parameterization of the prior also depends on a pre-specified value $D_0$, which represents the true number of non-zero coefficients. Fortunately, a reasonable guess at this value is all that is required, and it need only be within an order of magnitude of the true number. Let's use half the number of predictors as our guess:"
   ]
  },
  {
   "cell_type": "code",
   "execution_count": 36,
   "metadata": {},
   "outputs": [
    {
     "data": {
      "text/plain": [
       "5"
      ]
     },
     "execution_count": 36,
     "metadata": {},
     "output_type": "execute_result"
    }
   ],
   "source": [
    "D0 = int(D / 2)\n",
    "D0"
   ]
  },
  {
   "cell_type": "markdown",
   "metadata": {},
   "source": [
    "Meanwhile, the local shrinkage parameters are defined by the ratio:\n",
    "\n",
    "$$\\tilde{\\lambda}_i^2 = \\frac{c^2 \\lambda_i^2}{c^2 + \\tau^2 \\lambda_i^2}.$$\n",
    "\n",
    "Where $\\lambda_i$ is a raw shrinkage parameter and $\\tilde{\\lambda}_i$ is a scaled shrinkage parameter, and $c$ is the scaling parameter.\n",
    "\n",
    "To complete the specification of this model, we need priors on $\\lambda_i$ and $c$;  as with the global shrinkage, we use a long-tailed $\\textrm{Half-StudentT}_5(1)$  on the $\\lambda_i$. We need $c^2$ to be strictly positive, but not necessarily long-tailed, so an inverse gamma prior on $c^2$, $c^2 \\sim \\textrm{InverseGamma}(1, 1)$ fits the bill."
   ]
  },
  {
   "cell_type": "markdown",
   "metadata": {},
   "source": [
    "Let's build a model that incorporates regularization. First, we'll define the priors:"
   ]
  },
  {
   "cell_type": "code",
   "execution_count": 37,
   "metadata": {},
   "outputs": [],
   "source": [
    "with pm.Model(coords={\"predictors\": X.columns}) as test_score_model:\n",
    "\n",
    "    # Prior on error SD\n",
    "    sigma = pm.HalfNormal(\"sigma\", 25)\n",
    "    \n",
    "    # Global shrinkage prior\n",
    "    tau = pm.HalfStudentT(\"tau\", 2, D0 / (D - D0) * sigma / np.sqrt(N))\n",
    "    \n",
    "    # Local shrinkage prior\n",
    "    lam = pm.HalfStudentT(\"lam\", 5, dims=\"predictors\")\n",
    "    c2 = pm.InverseGamma(\"c2\", 1, 0.1)"
   ]
  },
  {
   "cell_type": "markdown",
   "metadata": {},
   "source": [
    "Now we'll calculate the shrinkage standard deviation and the regression coefficients:"
   ]
  },
  {
   "cell_type": "code",
   "execution_count": 38,
   "metadata": {},
   "outputs": [],
   "source": [
    "with test_score_model:\n",
    "    # Calculate the shrinkage standard deviation (anonymous deterministic)\n",
    "    shrinkage_sd = tau * lam * pm.math.sqrt(c2 / (c2 + tau**2 * lam**2))\n",
    "    \n",
    "    # Regularized regression coefficients\n",
    "    beta = pm.Normal('beta', 0, shrinkage_sd, dims='predictors')\n",
    "    \n",
    "    # Intercept (not regularized)\n",
    "    beta0 = pm.Normal(\"beta0\", 100, 25)"
   ]
  },
  {
   "cell_type": "markdown",
   "metadata": {},
   "source": [
    "Finally, we'll add the likelihood:"
   ]
  },
  {
   "cell_type": "code",
   "execution_count": 39,
   "metadata": {},
   "outputs": [],
   "source": [
    "with test_score_model:\n",
    "    # Likelihood\n",
    "    scores = pm.Normal(\"scores\", beta0 + X.to_numpy() @ beta, sigma, observed=y.to_numpy())"
   ]
  },
  {
   "cell_type": "markdown",
   "metadata": {},
   "source": [
    "Now that the model is complete, let's see what the graph looks like."
   ]
  },
  {
   "cell_type": "code",
   "execution_count": 40,
   "metadata": {},
   "outputs": [
    {
     "data": {
      "image/svg+xml": [
       "<?xml version=\"1.0\" encoding=\"UTF-8\" standalone=\"no\"?>\n",
       "<!DOCTYPE svg PUBLIC \"-//W3C//DTD SVG 1.1//EN\"\n",
       " \"http://www.w3.org/Graphics/SVG/1.1/DTD/svg11.dtd\">\n",
       "<!-- Generated by graphviz version 12.2.1 (20250203.1708)\n",
       " -->\n",
       "<!-- Pages: 1 -->\n",
       "<svg width=\"431pt\" height=\"494pt\"\n",
       " viewBox=\"0.00 0.00 431.19 494.27\" xmlns=\"http://www.w3.org/2000/svg\" xmlns:xlink=\"http://www.w3.org/1999/xlink\">\n",
       "<g id=\"graph0\" class=\"graph\" transform=\"scale(1 1) rotate(0) translate(4 490.27)\">\n",
       "<polygon fill=\"white\" stroke=\"none\" points=\"-4,4 -4,-490.27 427.19,-490.27 427.19,4 -4,4\"/>\n",
       "<g id=\"clust1\" class=\"cluster\">\n",
       "<title>clusterpredictors (10)</title>\n",
       "<path fill=\"none\" stroke=\"black\" d=\"M149.29,-137.82C149.29,-137.82 267.29,-137.82 267.29,-137.82 273.29,-137.82 279.29,-143.82 279.29,-149.82 279.29,-149.82 279.29,-364.95 279.29,-364.95 279.29,-370.95 273.29,-376.95 267.29,-376.95 267.29,-376.95 149.29,-376.95 149.29,-376.95 143.29,-376.95 137.29,-370.95 137.29,-364.95 137.29,-364.95 137.29,-149.82 137.29,-149.82 137.29,-143.82 143.29,-137.82 149.29,-137.82\"/>\n",
       "<text text-anchor=\"middle\" x=\"231.16\" y=\"-145.02\" font-family=\"Times,serif\" font-size=\"14.00\">predictors (10)</text>\n",
       "</g>\n",
       "<g id=\"clust2\" class=\"cluster\">\n",
       "<title>cluster101</title>\n",
       "<path fill=\"none\" stroke=\"black\" d=\"M171.29,-8C171.29,-8 245.29,-8 245.29,-8 251.29,-8 257.29,-14 257.29,-20 257.29,-20 257.29,-117.82 257.29,-117.82 257.29,-123.82 251.29,-129.82 245.29,-129.82 245.29,-129.82 171.29,-129.82 171.29,-129.82 165.29,-129.82 159.29,-123.82 159.29,-117.82 159.29,-117.82 159.29,-20 159.29,-20 159.29,-14 165.29,-8 171.29,-8\"/>\n",
       "<text text-anchor=\"middle\" x=\"239.16\" y=\"-15.2\" font-family=\"Times,serif\" font-size=\"14.00\">101</text>\n",
       "</g>\n",
       "<!-- beta0 -->\n",
       "<g id=\"node1\" class=\"node\">\n",
       "<title>beta0</title>\n",
       "<ellipse fill=\"none\" stroke=\"black\" cx=\"88.29\" cy=\"-210.98\" rx=\"41.01\" ry=\"40.66\"/>\n",
       "<text text-anchor=\"middle\" x=\"88.29\" y=\"-222.43\" font-family=\"Times,serif\" font-size=\"14.00\">beta0</text>\n",
       "<text text-anchor=\"middle\" x=\"88.29\" y=\"-205.93\" font-family=\"Times,serif\" font-size=\"14.00\">~</text>\n",
       "<text text-anchor=\"middle\" x=\"88.29\" y=\"-189.43\" font-family=\"Times,serif\" font-size=\"14.00\">Normal</text>\n",
       "</g>\n",
       "<!-- scores -->\n",
       "<g id=\"node7\" class=\"node\">\n",
       "<title>scores</title>\n",
       "<ellipse fill=\"lightgrey\" stroke=\"black\" cx=\"208.29\" cy=\"-81.16\" rx=\"41.01\" ry=\"40.66\"/>\n",
       "<text text-anchor=\"middle\" x=\"208.29\" y=\"-92.61\" font-family=\"Times,serif\" font-size=\"14.00\">scores</text>\n",
       "<text text-anchor=\"middle\" x=\"208.29\" y=\"-76.11\" font-family=\"Times,serif\" font-size=\"14.00\">~</text>\n",
       "<text text-anchor=\"middle\" x=\"208.29\" y=\"-59.61\" font-family=\"Times,serif\" font-size=\"14.00\">Normal</text>\n",
       "</g>\n",
       "<!-- beta0&#45;&gt;scores -->\n",
       "<g id=\"edge5\" class=\"edge\">\n",
       "<title>beta0&#45;&gt;scores</title>\n",
       "<path fill=\"none\" stroke=\"black\" d=\"M106.9,-174.34C114.22,-162.05 123.28,-148.67 133.29,-137.82 142.56,-127.76 153.87,-118.29 164.86,-110.1\"/>\n",
       "<polygon fill=\"black\" stroke=\"black\" points=\"166.67,-113.12 172.74,-104.43 162.58,-107.43 166.67,-113.12\"/>\n",
       "</g>\n",
       "<!-- sigma -->\n",
       "<g id=\"node2\" class=\"node\">\n",
       "<title>sigma</title>\n",
       "<ellipse fill=\"none\" stroke=\"black\" cx=\"245.29\" cy=\"-445.61\" rx=\"57.98\" ry=\"40.66\"/>\n",
       "<text text-anchor=\"middle\" x=\"245.29\" y=\"-457.06\" font-family=\"Times,serif\" font-size=\"14.00\">sigma</text>\n",
       "<text text-anchor=\"middle\" x=\"245.29\" y=\"-440.56\" font-family=\"Times,serif\" font-size=\"14.00\">~</text>\n",
       "<text text-anchor=\"middle\" x=\"245.29\" y=\"-424.06\" font-family=\"Times,serif\" font-size=\"14.00\">HalfNormal</text>\n",
       "</g>\n",
       "<!-- tau -->\n",
       "<g id=\"node3\" class=\"node\">\n",
       "<title>tau</title>\n",
       "<ellipse fill=\"none\" stroke=\"black\" cx=\"63.29\" cy=\"-328.29\" rx=\"63.29\" ry=\"40.66\"/>\n",
       "<text text-anchor=\"middle\" x=\"63.29\" y=\"-339.74\" font-family=\"Times,serif\" font-size=\"14.00\">tau</text>\n",
       "<text text-anchor=\"middle\" x=\"63.29\" y=\"-323.24\" font-family=\"Times,serif\" font-size=\"14.00\">~</text>\n",
       "<text text-anchor=\"middle\" x=\"63.29\" y=\"-306.74\" font-family=\"Times,serif\" font-size=\"14.00\">HalfStudentT</text>\n",
       "</g>\n",
       "<!-- sigma&#45;&gt;tau -->\n",
       "<g id=\"edge1\" class=\"edge\">\n",
       "<title>sigma&#45;&gt;tau</title>\n",
       "<path fill=\"none\" stroke=\"black\" d=\"M201.33,-418.81C180.54,-406.41 155.46,-391.19 133.29,-376.95 127.36,-373.15 121.2,-369.1 115.1,-365.03\"/>\n",
       "<polygon fill=\"black\" stroke=\"black\" points=\"117.12,-362.17 106.87,-359.49 113.21,-367.98 117.12,-362.17\"/>\n",
       "</g>\n",
       "<!-- sigma&#45;&gt;scores -->\n",
       "<g id=\"edge6\" class=\"edge\">\n",
       "<title>sigma&#45;&gt;scores</title>\n",
       "<path fill=\"none\" stroke=\"black\" d=\"M302.22,-437.34C339.51,-429.3 385.56,-412.4 409.29,-376.95 431.36,-343.96 422.88,-324.93 409.29,-287.63 380.38,-208.35 301.96,-144.16 252.05,-109.71\"/>\n",
       "<polygon fill=\"black\" stroke=\"black\" points=\"254.27,-106.98 244.03,-104.27 250.34,-112.78 254.27,-106.98\"/>\n",
       "</g>\n",
       "<!-- beta -->\n",
       "<g id=\"node5\" class=\"node\">\n",
       "<title>beta</title>\n",
       "<ellipse fill=\"none\" stroke=\"black\" cx=\"208.29\" cy=\"-210.98\" rx=\"41.01\" ry=\"40.66\"/>\n",
       "<text text-anchor=\"middle\" x=\"208.29\" y=\"-222.43\" font-family=\"Times,serif\" font-size=\"14.00\">beta</text>\n",
       "<text text-anchor=\"middle\" x=\"208.29\" y=\"-205.93\" font-family=\"Times,serif\" font-size=\"14.00\">~</text>\n",
       "<text text-anchor=\"middle\" x=\"208.29\" y=\"-189.43\" font-family=\"Times,serif\" font-size=\"14.00\">Normal</text>\n",
       "</g>\n",
       "<!-- tau&#45;&gt;beta -->\n",
       "<g id=\"edge2\" class=\"edge\">\n",
       "<title>tau&#45;&gt;beta</title>\n",
       "<path fill=\"none\" stroke=\"black\" d=\"M102.53,-296.09C122.84,-279.93 147.59,-260.24 168.05,-243.98\"/>\n",
       "<polygon fill=\"black\" stroke=\"black\" points=\"169.98,-246.91 175.63,-237.95 165.63,-241.43 169.98,-246.91\"/>\n",
       "</g>\n",
       "<!-- c2 -->\n",
       "<g id=\"node4\" class=\"node\">\n",
       "<title>c2</title>\n",
       "<ellipse fill=\"none\" stroke=\"black\" cx=\"345.29\" cy=\"-328.29\" rx=\"55.33\" ry=\"40.66\"/>\n",
       "<text text-anchor=\"middle\" x=\"345.29\" y=\"-339.74\" font-family=\"Times,serif\" font-size=\"14.00\">c2</text>\n",
       "<text text-anchor=\"middle\" x=\"345.29\" y=\"-323.24\" font-family=\"Times,serif\" font-size=\"14.00\">~</text>\n",
       "<text text-anchor=\"middle\" x=\"345.29\" y=\"-306.74\" font-family=\"Times,serif\" font-size=\"14.00\">InvGamma</text>\n",
       "</g>\n",
       "<!-- c2&#45;&gt;beta -->\n",
       "<g id=\"edge3\" class=\"edge\">\n",
       "<title>c2&#45;&gt;beta</title>\n",
       "<path fill=\"none\" stroke=\"black\" d=\"M309.29,-296.99C290.45,-281.14 267.35,-261.69 247.99,-245.4\"/>\n",
       "<polygon fill=\"black\" stroke=\"black\" points=\"250.45,-242.89 240.55,-239.13 245.94,-248.25 250.45,-242.89\"/>\n",
       "</g>\n",
       "<!-- beta&#45;&gt;scores -->\n",
       "<g id=\"edge7\" class=\"edge\">\n",
       "<title>beta&#45;&gt;scores</title>\n",
       "<path fill=\"none\" stroke=\"black\" d=\"M208.29,-169.88C208.29,-158.34 208.29,-145.6 208.29,-133.48\"/>\n",
       "<polygon fill=\"black\" stroke=\"black\" points=\"211.79,-133.62 208.29,-123.62 204.79,-133.62 211.79,-133.62\"/>\n",
       "</g>\n",
       "<!-- lam -->\n",
       "<g id=\"node6\" class=\"node\">\n",
       "<title>lam</title>\n",
       "<ellipse fill=\"none\" stroke=\"black\" cx=\"208.29\" cy=\"-328.29\" rx=\"63.29\" ry=\"40.66\"/>\n",
       "<text text-anchor=\"middle\" x=\"208.29\" y=\"-339.74\" font-family=\"Times,serif\" font-size=\"14.00\">lam</text>\n",
       "<text text-anchor=\"middle\" x=\"208.29\" y=\"-323.24\" font-family=\"Times,serif\" font-size=\"14.00\">~</text>\n",
       "<text text-anchor=\"middle\" x=\"208.29\" y=\"-306.74\" font-family=\"Times,serif\" font-size=\"14.00\">HalfStudentT</text>\n",
       "</g>\n",
       "<!-- lam&#45;&gt;beta -->\n",
       "<g id=\"edge4\" class=\"edge\">\n",
       "<title>lam&#45;&gt;beta</title>\n",
       "<path fill=\"none\" stroke=\"black\" d=\"M208.29,-287.28C208.29,-279.5 208.29,-271.25 208.29,-263.16\"/>\n",
       "<polygon fill=\"black\" stroke=\"black\" points=\"211.79,-263.43 208.29,-253.43 204.79,-263.43 211.79,-263.43\"/>\n",
       "</g>\n",
       "</g>\n",
       "</svg>\n"
      ],
      "text/plain": [
       "<graphviz.graphs.Digraph at 0x7fc70c17d5e0>"
      ]
     },
     "execution_count": 40,
     "metadata": {},
     "output_type": "execute_result"
    }
   ],
   "source": [
    "pm.model_to_graphviz(test_score_model)"
   ]
  },
  {
   "cell_type": "markdown",
   "metadata": {},
   "source": [
    "## Exercise: Bioassay Model\n",
    "\n",
    "Gelman et al. (2003) present an example of an acute toxicity test, commonly performed on animals to estimate the toxicity of various compounds.\n",
    "\n",
    "In this dataset `log_dose` includes 4 levels of dosage, on the log scale, each administered to 5 rats during the experiment. The response variable is death, the number of positive responses to the dosage.\n",
    "\n",
    "The number of deaths can be modeled as a binomial response, with the probability of death being a linear function of dose:\n",
    "\n",
    "$$\\begin{aligned}\n",
    "\\text{logit}(p_i) &= a + b x_i \\\\\n",
    "y_i &\\sim \\text{Bin}(n_i, p_i) \\\\\n",
    "\\end{aligned}$$\n",
    "\n",
    "The common statistic of interest in such experiments is the LD50, the dosage at which the probability of death is 50%.\n",
    "\n",
    "Specify this model in PyMC:"
   ]
  },
  {
   "cell_type": "code",
   "execution_count": 41,
   "metadata": {},
   "outputs": [],
   "source": [
    "# Log dose in each group\n",
    "log_dose = [-.86, -.3, -.05, .73]\n",
    "\n",
    "# Sample size in each group\n",
    "n = 5\n",
    "\n",
    "# Outcomes\n",
    "deaths = [0, 1, 3, 5]"
   ]
  },
  {
   "cell_type": "code",
   "execution_count": 42,
   "metadata": {},
   "outputs": [],
   "source": [
    "# Write your answer here\n",
    "with pm.Model() as bioassay_model:\n",
    "    # Priors for intercept and slope\n",
    "    a = pm.Normal('a', 0, 5)\n",
    "    b = pm.Normal('b', 0, 5)\n",
    "    \n",
    "    # Probability of death in logit-space\n",
    "    logit_p = a + b * np.array(log_dose)\n",
    "    \n",
    "    # Convert from logit to probability\n",
    "    p = pm.math.invlogit(logit_p)\n",
    "    \n",
    "    # Likelihood (binomial observations)\n",
    "    y = pm.Binomial('y', n=n, p=p, observed=deaths)"
   ]
  },
  {
   "cell_type": "markdown",
   "metadata": {},
   "source": [
    "---\n",
    "\n",
    "## References\n",
    "\n",
    "1. Ching & Chen. 2007. Transitional Markov chain Monte Carlo method for Bayesian model updating, model class selection and model averaging. Journal of Engineering Mechanics 2007\n",
    "2.\tHoffman MD, Gelman A. 2014. The No-U-turn sampler: adaptively setting path lengths in Hamiltonian Monte Carlo. The Journal of Machine Learning Research. 15(1):1593-1623.\n",
    "3. M.I. Jordan. 2004. Graphical models. Statist. Sci., 19(1):140–155.\n",
    "4. Neal, R. M. 2003. Slice sampling. The Annals of Statistics, 31(3), 705–767. doi:10.1111/1467-9868.00198"
   ]
  }
 ],
 "metadata": {
  "kernelspec": {
   "display_name": "default",
   "language": "python",
   "name": "python3"
  },
  "language_info": {
   "codemirror_mode": {
    "name": "ipython",
    "version": 3
   },
   "file_extension": ".py",
   "mimetype": "text/x-python",
   "name": "python",
   "nbconvert_exporter": "python",
   "pygments_lexer": "ipython3",
   "version": "3.12.10"
  }
 },
 "nbformat": 4,
 "nbformat_minor": 4
}
